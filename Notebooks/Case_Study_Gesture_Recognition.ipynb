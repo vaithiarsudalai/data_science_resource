{
  "nbformat": 4,
  "nbformat_minor": 0,
  "metadata": {
    "kernelspec": {
      "display_name": "Python 3",
      "language": "python",
      "name": "python3"
    },
    "language_info": {
      "codemirror_mode": {
        "name": "ipython",
        "version": 3
      },
      "file_extension": ".py",
      "mimetype": "text/x-python",
      "name": "python",
      "nbconvert_exporter": "python",
      "pygments_lexer": "ipython3",
      "version": "3.8.8"
    },
    "colab": {
      "name": "Case_Study_Gesture_Recognition.ipynb",
      "provenance": [],
      "collapsed_sections": []
    },
    "accelerator": "GPU"
  },
  "cells": [
    {
      "cell_type": "markdown",
      "metadata": {
        "id": "6dGx9PXi7dMA"
      },
      "source": [
        "# Gesture Recognition\n",
        "In this group project, you are going to build a 3D Conv model that will be able to predict the 5 gestures correctly. Please import the following libraries to get started."
      ]
    },
    {
      "cell_type": "code",
      "metadata": {
        "id": "R-Ty9KlR7dMY"
      },
      "source": [
        "import numpy as np\n",
        "import os\n",
        "import datetime\n",
        "import warnings\n",
        "warnings.filterwarnings(\"ignore\")\n",
        "import abc\n",
        "from sys import getsizeof\n",
        "from skimage.transform import resize\n",
        "from imageio import imread"
      ],
      "execution_count": 1,
      "outputs": []
    },
    {
      "cell_type": "markdown",
      "metadata": {
        "id": "fXSL3VsM7dMh"
      },
      "source": [
        "We set the random seed so that the results don't vary drastically."
      ]
    },
    {
      "cell_type": "code",
      "metadata": {
        "id": "OhWxtYEe7dMj"
      },
      "source": [
        "np.random.seed(30)\n",
        "import random as rn\n",
        "rn.seed(30)\n",
        "import tensorflow as tf\n",
        "tf.random.set_seed(30)"
      ],
      "execution_count": 2,
      "outputs": []
    },
    {
      "cell_type": "code",
      "metadata": {
        "colab": {
          "base_uri": "https://localhost:8080/"
        },
        "id": "uEMWSFDo7iJI",
        "outputId": "6964a6e4-f9b6-468f-e51b-f2e1de436575"
      },
      "source": [
        "from google.colab import drive\n",
        "drive.mount('/content/gdrive')"
      ],
      "execution_count": 3,
      "outputs": [
        {
          "output_type": "stream",
          "name": "stdout",
          "text": [
            "Mounted at /content/gdrive\n"
          ]
        }
      ]
    },
    {
      "cell_type": "code",
      "metadata": {
        "id": "nRs4qgU57igw"
      },
      "source": [
        "!unzip -q /content/gdrive/MyDrive/Gesture_Recognition/Project_data.zip"
      ],
      "execution_count": 4,
      "outputs": []
    },
    {
      "cell_type": "code",
      "metadata": {
        "colab": {
          "base_uri": "https://localhost:8080/"
        },
        "id": "z6T-kCGN7itK",
        "outputId": "8a1b523a-21d6-4676-845b-a9794b463026"
      },
      "source": [
        "!ls"
      ],
      "execution_count": 5,
      "outputs": [
        {
          "output_type": "stream",
          "name": "stdout",
          "text": [
            "gdrive\tProject_data  sample_data\n"
          ]
        }
      ]
    },
    {
      "cell_type": "code",
      "metadata": {
        "colab": {
          "base_uri": "https://localhost:8080/"
        },
        "id": "MYSzg1dO7jHP",
        "outputId": "60333bbe-6ae6-4c74-aa21-06f827a79ca1"
      },
      "source": [
        "!ls \"Project_data\""
      ],
      "execution_count": 6,
      "outputs": [
        {
          "output_type": "stream",
          "name": "stdout",
          "text": [
            "train  train.csv  val  val.csv\n"
          ]
        }
      ]
    },
    {
      "cell_type": "markdown",
      "metadata": {
        "id": "v0hSn6Bu7dMm"
      },
      "source": [
        "In this block, you read the folder names for training and validation. You also set the `batch_size` here. Note that you set the batch size in such a way that you are able to use the GPU in full capacity. You keep increasing the batch size until the machine throws an error."
      ]
    },
    {
      "cell_type": "code",
      "metadata": {
        "id": "vBukcXbg7dMo"
      },
      "source": [
        "train_doc = np.random.permutation(open('Project_data/train.csv').readlines())\n",
        "val_doc = np.random.permutation(open('Project_data/val.csv').readlines())\n",
        "batch_size = 10"
      ],
      "execution_count": 7,
      "outputs": []
    },
    {
      "cell_type": "markdown",
      "metadata": {
        "id": "unU1W0X57dMq"
      },
      "source": [
        "## Generator\n",
        "This is one of the most important part of the code. The overall structure of the generator has been given. In the generator, you are going to preprocess the images as you have images of 2 different dimensions as well as create a batch of video frames. You have to experiment with `img_idx`, `y`,`z` and normalization such that you get high accuracy."
      ]
    },
    {
      "cell_type": "code",
      "metadata": {
        "id": "ur12Ub8v7dMu"
      },
      "source": [
        "\n",
        "x = 30 # number of frames\n",
        "y = 120 # image width\n",
        "z = 120 # image height\n",
        "\n",
        "def generator(source_path, folder_list, batch_size):\n",
        "    print( 'Source path = ', source_path, '; batch size =', batch_size)\n",
        "    img_idx = [x for x in range(0,x)] #create a list of image numbers you want to use for a particular video\n",
        "    while True:\n",
        "        t = np.random.permutation(folder_list)\n",
        "        num_batches = len(folder_list)//batch_size # calculate the number of batches\n",
        "        for batch in range(num_batches): # we iterate over the number of batches\n",
        "            batch_data = np.zeros((batch_size,x,y,z,3)) # x is the number of images you use for each video, (y,z) is the final size of the input images and 3 is the number of channels RGB\n",
        "            batch_labels = np.zeros((batch_size,5)) # batch_labels is the one hot representation of the output\n",
        "            for folder in range(batch_size): # iterate over the batch_size\n",
        "                imgs = os.listdir(source_path+'/'+ t[folder + (batch*batch_size)].split(';')[0]) # read all the images in the folder\n",
        "                for idx,item in enumerate(img_idx): #  Iterate iver the frames/images of a folder to read them in\n",
        "                    image = imread(source_path+'/'+ t[folder + (batch*batch_size)].strip().split(';')[0]+'/'+imgs[item]).astype(np.float32)\n",
        "                    \n",
        "                    #crop the images and resize them. Note that the images are of 2 different shape \n",
        "                    #and the conv3D will throw error if the inputs in a batch have different shapes\n",
        "                    \n",
        "                    temp = resize(image,(120,120))\n",
        "                    temp = temp/127.5-1 #Normalize data\n",
        "                    \n",
        "                    batch_data[folder,idx,:,:,0] = (temp[:,:,0]) #normalise and feed in the image\n",
        "                    batch_data[folder,idx,:,:,1] = (temp[:,:,1]) #normalise and feed in the image\n",
        "                    batch_data[folder,idx,:,:,2] = (temp[:,:,2]) #normalise and feed in the image\n",
        "                    \n",
        "                batch_labels[folder, int(t[folder + (batch*batch_size)].strip().split(';')[2])] = 1\n",
        "            yield batch_data, batch_labels #you yield the batch_data and the batch_labels, remember what does yield do\n",
        "\n",
        "        \n",
        "        # write the code for the remaining data points which are left after full batches\n",
        "        if (len(folder_list) != batch_size*num_batches):\n",
        "            print(\"Batch: \",num_batches+1,\"Index:\", batch_size)\n",
        "            batch_size = len(folder_list) - (batch_size*num_batches)\n",
        "            batch_data = np.zeros((batch_size,x,y,z,3)) # x is the number of images you use for each video, (y,z) is the final size of the input images and 3 is the number of channels RGB\n",
        "            batch_labels = np.zeros((batch_size,5)) # batch_labels is the one hot representation of the output\n",
        "            for folder in range(batch_size): # iterate over the batch_size\n",
        "                imgs = os.listdir(source_path+'/'+ t[folder + (batch*batch_size)].split(';')[0]) # read all the images in the folder\n",
        "                for idx,item in enumerate(img_idx): #  Iterate iver the frames/images of a folder to read them in\n",
        "                    image = imread(source_path+'/'+ t[folder + (batch*batch_size)].strip().split(';')[0]+'/'+imgs[item]).astype(np.float32)\n",
        "                    \n",
        "                    #crop the images and resize them. Note that the images are of 2 different shape \n",
        "                    #and the conv3D will throw error if the inputs in a batch have different shapes\n",
        "                    temp = resize(image,(120,120))\n",
        "                    temp = temp/127.5-1 #Normalize data\n",
        "                    \n",
        "                    batch_data[folder,idx,:,:,0] = (temp[:,:,0])\n",
        "                    batch_data[folder,idx,:,:,1] = (temp[:,:,1])\n",
        "                    batch_data[folder,idx,:,:,2] = (temp[:,:,2])\n",
        "                   \n",
        "                batch_labels[folder, int(t[folder + (batch*batch_size)].strip().split(';')[2])] = 1\n",
        "            yield batch_data, batch_labels\n"
      ],
      "execution_count": 8,
      "outputs": []
    },
    {
      "cell_type": "markdown",
      "metadata": {
        "id": "Lrzl2LEr7dM5"
      },
      "source": [
        "Note here that a video is represented above in the generator as (number of images, height, width, number of channels). Take this into consideration while creating the model architecture."
      ]
    },
    {
      "cell_type": "code",
      "metadata": {
        "colab": {
          "base_uri": "https://localhost:8080/"
        },
        "id": "64v4gGhl7dM-",
        "outputId": "71eb1e96-2a58-4937-c04e-4757128897ed"
      },
      "source": [
        "curr_dt_time = datetime.datetime.now()\n",
        "train_path = 'Project_data/train'\n",
        "val_path = 'Project_data/val'\n",
        "num_train_sequences = len(train_doc)\n",
        "print('# training sequences =', num_train_sequences)\n",
        "num_val_sequences = len(val_doc)\n",
        "print('# validation sequences =', num_val_sequences)\n",
        "num_epochs = 10 # choose the number of epochs\n",
        "print ('# epochs =', num_epochs)"
      ],
      "execution_count": 9,
      "outputs": [
        {
          "output_type": "stream",
          "name": "stdout",
          "text": [
            "# training sequences = 663\n",
            "# validation sequences = 100\n",
            "# epochs = 10\n"
          ]
        }
      ]
    },
    {
      "cell_type": "markdown",
      "metadata": {
        "id": "3c4Va-rT7dNB"
      },
      "source": [
        "## Model\n",
        "Here you make the model using different functionalities that Keras provides. Remember to use `Conv3D` and `MaxPooling3D` and not `Conv2D` and `Maxpooling2D` for a 3D convolution model. You would want to use `TimeDistributed` while building a Conv2D + RNN model. Also remember that the last layer is the softmax. Design the network in such a way that the model is able to give good accuracy on the least number of parameters so that it can fit in the memory of the webcam."
      ]
    },
    {
      "cell_type": "code",
      "metadata": {
        "id": "6iAR9L1VPEek"
      },
      "source": [
        "from tensorflow.keras.models import Sequential, Model\n",
        "from tensorflow.keras.layers import Dense, GRU, Flatten, TimeDistributed, Flatten, BatchNormalization, Activation, Dropout\n",
        "from tensorflow.keras.layers import Conv3D, MaxPooling3D\n",
        "from tensorflow.keras.callbacks import ModelCheckpoint, ReduceLROnPlateau\n",
        "from tensorflow.keras import optimizers"
      ],
      "execution_count": 10,
      "outputs": []
    },
    {
      "cell_type": "code",
      "metadata": {
        "id": "44oskTXR7dND"
      },
      "source": [
        "#write your model here\n",
        "#model a\n",
        "model_a = Sequential()\n",
        "\n",
        "model_a.add(Conv3D(8, #number of filters \n",
        "                 kernel_size=(3,3,3), \n",
        "                 input_shape=(30, 120, 120, 3),\n",
        "                 padding='same'))\n",
        "model_a.add(BatchNormalization())\n",
        "model_a.add(Activation('relu'))\n",
        "\n",
        "model_a.add(MaxPooling3D(pool_size=(2,2,2)))\n",
        "\n",
        "model_a.add(Conv3D(16, #Number of filters, \n",
        "                 kernel_size=(3,3,3), \n",
        "                 padding='same'))\n",
        "model_a.add(BatchNormalization())\n",
        "model_a.add(Activation('relu'))\n",
        "\n",
        "model_a.add(MaxPooling3D(pool_size=(2,2,2)))\n",
        "\n",
        "model_a.add(Conv3D(32, #Number of filters \n",
        "                 kernel_size=(1,3,3), \n",
        "                 padding='same'))\n",
        "model_a.add(BatchNormalization())\n",
        "model_a.add(Activation('relu'))\n",
        "\n",
        "model_a.add(MaxPooling3D(pool_size=(2,2,2)))\n",
        "\n",
        "model_a.add(Conv3D(64, #Number pf filters \n",
        "                 kernel_size=(1,3,3), \n",
        "                 padding='same'))\n",
        "model_a.add(BatchNormalization())\n",
        "model_a.add(Activation('relu'))\n",
        "\n",
        "model_a.add(MaxPooling3D(pool_size=(2,2,2)))\n",
        "\n",
        "#Flatten Layers\n",
        "model_a.add(Flatten())\n",
        "\n",
        "model_a.add(Dense(1000, activation='relu'))\n",
        "model_a.add(Dropout(0.5))\n",
        "\n",
        "model_a.add(Dense(500, activation='relu'))\n",
        "model_a.add(Dropout(0.5))\n",
        "\n",
        "#softmax layer\n",
        "model_a.add(Dense(5, activation='softmax'))"
      ],
      "execution_count": 11,
      "outputs": []
    },
    {
      "cell_type": "markdown",
      "metadata": {
        "id": "9KRPLVq87dNF"
      },
      "source": [
        "Now that you have written the model, the next step is to `compile` the model. When you print the `summary` of the model, you'll see the total number of parameters you have to train."
      ]
    },
    {
      "cell_type": "code",
      "metadata": {
        "scrolled": true,
        "colab": {
          "base_uri": "https://localhost:8080/"
        },
        "id": "eAKYYIMx7dNH",
        "outputId": "659f2dd4-636f-4fa1-c48d-8513409afbaf"
      },
      "source": [
        "optimiser = optimizers.Adam(lr=0.001) #write your optimizer\n",
        "model_a.compile(optimizer=optimiser, loss='categorical_crossentropy', metrics=['categorical_accuracy'])\n",
        "print (model_a.summary())"
      ],
      "execution_count": 12,
      "outputs": [
        {
          "output_type": "stream",
          "name": "stdout",
          "text": [
            "Model: \"sequential\"\n",
            "_________________________________________________________________\n",
            " Layer (type)                Output Shape              Param #   \n",
            "=================================================================\n",
            " conv3d (Conv3D)             (None, 30, 120, 120, 8)   656       \n",
            "                                                                 \n",
            " batch_normalization (BatchN  (None, 30, 120, 120, 8)  32        \n",
            " ormalization)                                                   \n",
            "                                                                 \n",
            " activation (Activation)     (None, 30, 120, 120, 8)   0         \n",
            "                                                                 \n",
            " max_pooling3d (MaxPooling3D  (None, 15, 60, 60, 8)    0         \n",
            " )                                                               \n",
            "                                                                 \n",
            " conv3d_1 (Conv3D)           (None, 15, 60, 60, 16)    3472      \n",
            "                                                                 \n",
            " batch_normalization_1 (Batc  (None, 15, 60, 60, 16)   64        \n",
            " hNormalization)                                                 \n",
            "                                                                 \n",
            " activation_1 (Activation)   (None, 15, 60, 60, 16)    0         \n",
            "                                                                 \n",
            " max_pooling3d_1 (MaxPooling  (None, 7, 30, 30, 16)    0         \n",
            " 3D)                                                             \n",
            "                                                                 \n",
            " conv3d_2 (Conv3D)           (None, 7, 30, 30, 32)     4640      \n",
            "                                                                 \n",
            " batch_normalization_2 (Batc  (None, 7, 30, 30, 32)    128       \n",
            " hNormalization)                                                 \n",
            "                                                                 \n",
            " activation_2 (Activation)   (None, 7, 30, 30, 32)     0         \n",
            "                                                                 \n",
            " max_pooling3d_2 (MaxPooling  (None, 3, 15, 15, 32)    0         \n",
            " 3D)                                                             \n",
            "                                                                 \n",
            " conv3d_3 (Conv3D)           (None, 3, 15, 15, 64)     18496     \n",
            "                                                                 \n",
            " batch_normalization_3 (Batc  (None, 3, 15, 15, 64)    256       \n",
            " hNormalization)                                                 \n",
            "                                                                 \n",
            " activation_3 (Activation)   (None, 3, 15, 15, 64)     0         \n",
            "                                                                 \n",
            " max_pooling3d_3 (MaxPooling  (None, 1, 7, 7, 64)      0         \n",
            " 3D)                                                             \n",
            "                                                                 \n",
            " flatten (Flatten)           (None, 3136)              0         \n",
            "                                                                 \n",
            " dense (Dense)               (None, 1000)              3137000   \n",
            "                                                                 \n",
            " dropout (Dropout)           (None, 1000)              0         \n",
            "                                                                 \n",
            " dense_1 (Dense)             (None, 500)               500500    \n",
            "                                                                 \n",
            " dropout_1 (Dropout)         (None, 500)               0         \n",
            "                                                                 \n",
            " dense_2 (Dense)             (None, 5)                 2505      \n",
            "                                                                 \n",
            "=================================================================\n",
            "Total params: 3,667,749\n",
            "Trainable params: 3,667,509\n",
            "Non-trainable params: 240\n",
            "_________________________________________________________________\n",
            "None\n"
          ]
        }
      ]
    },
    {
      "cell_type": "markdown",
      "metadata": {
        "id": "iogKeuae7dNI"
      },
      "source": [
        "Let us create the `train_generator` and the `val_generator` which will be used in `.fit_generator`."
      ]
    },
    {
      "cell_type": "code",
      "metadata": {
        "id": "P1SP2yK37dNJ"
      },
      "source": [
        "train_generator = generator(train_path, train_doc, batch_size)\n",
        "val_generator = generator(val_path, val_doc, batch_size)"
      ],
      "execution_count": 13,
      "outputs": []
    },
    {
      "cell_type": "code",
      "metadata": {
        "colab": {
          "base_uri": "https://localhost:8080/"
        },
        "id": "lNBqhbX07dNL",
        "outputId": "416ea6c2-d316-4e2b-e6ba-17b942e94a2d"
      },
      "source": [
        "model_name = 'model_init' + '_' + str(curr_dt_time).replace(' ','').replace(':','_') + '/'\n",
        "    \n",
        "if not os.path.exists(model_name):\n",
        "    os.mkdir(model_name)\n",
        "        \n",
        "filepath = model_name + 'model-{epoch:05d}-{loss:.5f}-{categorical_accuracy:.5f}-{val_loss:.5f}-{val_categorical_accuracy:.5f}.h5'\n",
        "\n",
        "checkpoint = ModelCheckpoint(filepath, monitor='val_loss', verbose=1, save_best_only=False, save_weights_only=False, mode='auto', period=1)\n",
        "\n",
        "LR = ReduceLROnPlateau(monitor='val_loss', factor=0.5, patience=2, cooldown=1, verbose=1)\n",
        "callbacks_list = [checkpoint, LR]"
      ],
      "execution_count": 14,
      "outputs": [
        {
          "output_type": "stream",
          "name": "stdout",
          "text": [
            "WARNING:tensorflow:`period` argument is deprecated. Please use `save_freq` to specify the frequency in number of batches seen.\n"
          ]
        }
      ]
    },
    {
      "cell_type": "markdown",
      "metadata": {
        "id": "vB0KuHYo7dNM"
      },
      "source": [
        "The `steps_per_epoch` and `validation_steps` are used by `fit_generator` to decide the number of next() calls it need to make."
      ]
    },
    {
      "cell_type": "code",
      "metadata": {
        "id": "IFbOk1eK7dNN"
      },
      "source": [
        "if (num_train_sequences%batch_size) == 0:\n",
        "    steps_per_epoch = int(num_train_sequences/batch_size)\n",
        "else:\n",
        "    steps_per_epoch = (num_train_sequences//batch_size) + 1\n",
        "\n",
        "if (num_val_sequences%batch_size) == 0:\n",
        "    validation_steps = int(num_val_sequences/batch_size)\n",
        "else:\n",
        "    validation_steps = (num_val_sequences//batch_size) + 1"
      ],
      "execution_count": 15,
      "outputs": []
    },
    {
      "cell_type": "markdown",
      "metadata": {
        "id": "_xjTbEu57dNP"
      },
      "source": [
        "Let us now fit the model. This will start training the model and with the help of the checkpoints, you'll be able to save the model at the end of each epoch."
      ]
    },
    {
      "cell_type": "code",
      "metadata": {
        "colab": {
          "base_uri": "https://localhost:8080/"
        },
        "id": "qoXIfxNp7dNQ",
        "outputId": "f0d2d7a7-e9bc-4a1f-a077-8724588a6180"
      },
      "source": [
        "model_a.fit(train_generator, steps_per_epoch=steps_per_epoch, epochs=num_epochs, verbose=1, \n",
        "                    callbacks=callbacks_list, validation_data=val_generator, \n",
        "                    validation_steps=validation_steps, class_weight=None, workers=1, initial_epoch=0)"
      ],
      "execution_count": null,
      "outputs": [
        {
          "output_type": "stream",
          "name": "stdout",
          "text": [
            "Source path =  Project_data/train ; batch size = 10\n",
            "Epoch 1/10\n",
            "65/67 [============================>.] - ETA: 9s - loss: 4.9612 - categorical_accuracy: 0.2769 Batch:  67 Index: 10\n",
            "67/67 [==============================] - ETA: 0s - loss: 4.9167 - categorical_accuracy: 0.2760Source path =  Project_data/val ; batch size = 10\n",
            "\n",
            "Epoch 00001: saving model to model_init_2021-11-1514_14_47.366825/model-00001-4.91670-0.27602-1.45638-0.37000.h5\n",
            "67/67 [==============================] - 419s 6s/step - loss: 4.9167 - categorical_accuracy: 0.2760 - val_loss: 1.4564 - val_categorical_accuracy: 0.3700 - lr: 0.0010\n",
            "Epoch 2/10\n",
            "67/67 [==============================] - ETA: 0s - loss: 2.2877 - categorical_accuracy: 0.2886\n",
            "Epoch 00002: saving model to model_init_2021-11-1514_14_47.366825/model-00002-2.28771-0.28856-1.44919-0.42000.h5\n",
            "67/67 [==============================] - 146s 2s/step - loss: 2.2877 - categorical_accuracy: 0.2886 - val_loss: 1.4492 - val_categorical_accuracy: 0.4200 - lr: 0.0010\n",
            "Epoch 3/10\n",
            "67/67 [==============================] - ETA: 0s - loss: 1.9661 - categorical_accuracy: 0.2985\n",
            "Epoch 00003: saving model to model_init_2021-11-1514_14_47.366825/model-00003-1.96606-0.29851-1.46382-0.41000.h5\n",
            "67/67 [==============================] - 176s 3s/step - loss: 1.9661 - categorical_accuracy: 0.2985 - val_loss: 1.4638 - val_categorical_accuracy: 0.4100 - lr: 0.0010\n",
            "Epoch 4/10\n",
            "67/67 [==============================] - ETA: 0s - loss: 1.6058 - categorical_accuracy: 0.3234\n",
            "Epoch 00004: saving model to model_init_2021-11-1514_14_47.366825/model-00004-1.60581-0.32338-1.64496-0.18000.h5\n",
            "\n",
            "Epoch 00004: ReduceLROnPlateau reducing learning rate to 0.0005000000237487257.\n",
            "67/67 [==============================] - 143s 2s/step - loss: 1.6058 - categorical_accuracy: 0.3234 - val_loss: 1.6450 - val_categorical_accuracy: 0.1800 - lr: 0.0010\n",
            "Epoch 5/10\n",
            "67/67 [==============================] - ETA: 0s - loss: 1.5878 - categorical_accuracy: 0.3433\n",
            "Epoch 00005: saving model to model_init_2021-11-1514_14_47.366825/model-00005-1.58775-0.34328-1.29091-0.41000.h5\n",
            "67/67 [==============================] - 150s 2s/step - loss: 1.5878 - categorical_accuracy: 0.3433 - val_loss: 1.2909 - val_categorical_accuracy: 0.4100 - lr: 5.0000e-04\n",
            "Epoch 6/10\n",
            "67/67 [==============================] - ETA: 0s - loss: 1.4920 - categorical_accuracy: 0.3184\n",
            "Epoch 00006: saving model to model_init_2021-11-1514_14_47.366825/model-00006-1.49199-0.31841-1.33195-0.33000.h5\n",
            "67/67 [==============================] - 145s 2s/step - loss: 1.4920 - categorical_accuracy: 0.3184 - val_loss: 1.3319 - val_categorical_accuracy: 0.3300 - lr: 5.0000e-04\n",
            "Epoch 7/10\n",
            "67/67 [==============================] - ETA: 0s - loss: 1.4139 - categorical_accuracy: 0.3483\n",
            "Epoch 00007: saving model to model_init_2021-11-1514_14_47.366825/model-00007-1.41389-0.34826-1.28227-0.32000.h5\n",
            "67/67 [==============================] - 166s 3s/step - loss: 1.4139 - categorical_accuracy: 0.3483 - val_loss: 1.2823 - val_categorical_accuracy: 0.3200 - lr: 5.0000e-04\n",
            "Epoch 8/10\n",
            "67/67 [==============================] - ETA: 0s - loss: 1.4061 - categorical_accuracy: 0.3632\n",
            "Epoch 00008: saving model to model_init_2021-11-1514_14_47.366825/model-00008-1.40606-0.36318-1.28030-0.38000.h5\n",
            "67/67 [==============================] - 141s 2s/step - loss: 1.4061 - categorical_accuracy: 0.3632 - val_loss: 1.2803 - val_categorical_accuracy: 0.3800 - lr: 5.0000e-04\n",
            "Epoch 9/10\n",
            "67/67 [==============================] - ETA: 0s - loss: 1.3784 - categorical_accuracy: 0.4328\n",
            "Epoch 00009: saving model to model_init_2021-11-1514_14_47.366825/model-00009-1.37845-0.43284-1.18629-0.51000.h5\n",
            "67/67 [==============================] - 149s 2s/step - loss: 1.3784 - categorical_accuracy: 0.4328 - val_loss: 1.1863 - val_categorical_accuracy: 0.5100 - lr: 5.0000e-04\n",
            "Epoch 10/10\n",
            "67/67 [==============================] - ETA: 0s - loss: 1.3170 - categorical_accuracy: 0.4179\n",
            "Epoch 00010: saving model to model_init_2021-11-1514_14_47.366825/model-00010-1.31698-0.41791-1.11384-0.51000.h5\n",
            "67/67 [==============================] - 137s 2s/step - loss: 1.3170 - categorical_accuracy: 0.4179 - val_loss: 1.1138 - val_categorical_accuracy: 0.5100 - lr: 5.0000e-04\n"
          ]
        },
        {
          "output_type": "execute_result",
          "data": {
            "text/plain": [
              "<keras.callbacks.History at 0x7f4280558590>"
            ]
          },
          "metadata": {},
          "execution_count": 23
        }
      ]
    },
    {
      "cell_type": "code",
      "metadata": {
        "id": "1h5x0O_87dNR"
      },
      "source": [
        "classes = 5 #left swipe, right swipe, thumbs up, thumbs down, stop\n",
        "channel = 3\n",
        "x = 30 # number of frames\n",
        "y = 120 # image width\n",
        "z = 120 # image height\n",
        "\n",
        "def generator_ex(source_path, folder_list, batch_size):\n",
        "    print( 'Source path = ', source_path, '; batch size =', batch_size)\n",
        "    img_idx = [x for x in range(0,x)] #create a list of image numbers you want to use for a particular video\n",
        "    while True:\n",
        "        t = np.random.permutation(folder_list)\n",
        "        num_batches = len(folder_list)//batch_size # calculate the number of batches\n",
        "        for batch in range(num_batches): # we iterate over the number of batches\n",
        "            batch_data = np.zeros((batch_size,x,y,z,channel)) # x is the number of images you use for each video, (y,z) is the final size of the input images and 3 is the number of channels RGB\n",
        "            batch_labels = np.zeros((batch_size,classes)) # batch_labels is the one hot representation of the output\n",
        "            for folder in range(batch_size): # iterate over the batch_size\n",
        "                imgs = os.listdir(source_path+'/'+ t[folder + (batch*batch_size)].split(';')[0]) # read all the images in the folder\n",
        "                for idx,item in enumerate(img_idx): #  Iterate iver the frames/images of a folder to read them in\n",
        "                    image = imread(source_path+'/'+ t[folder + (batch*batch_size)].strip().split(';')[0]+'/'+imgs[item]).astype(np.float32)\n",
        "                    \n",
        "                    #crop the images and resize them. Note that the images are of 2 different shape \n",
        "                    #and the conv3D will throw error if the inputs in a batch have different shapes\n",
        "                    \n",
        "                    temp = resize(image,(y,z))\n",
        "                    #Converting to gray scale\n",
        "                    temp = temp.mean(axis=-1,keepdims=1) \n",
        "                    temp = temp/127.5-1 #Normalize data\n",
        "                    batch_data[folder,idx] = temp #normalise and feed in the image\n",
        "                    \n",
        "                batch_labels[folder, int(t[folder + (batch*batch_size)].strip().split(';')[2])] = 1\n",
        "                \n",
        "            yield batch_data, batch_labels #you yield the batch_data and the batch_labels, remember what does yield do\n",
        "\n",
        "        \n",
        "        # write the code for the remaining data points which are left after full batches\n",
        "        if (len(folder_list) != batch_size*num_batches):\n",
        "            print(\"Batch: \",num_batches+1,\"Index:\", batch_size)\n",
        "            batch_size = len(folder_list) - (batch_size*num_batches)\n",
        "            batch_data = np.zeros((batch_size,x,y,z,channel)) # x is the number of images you use for each video, (y,z) is the final size of the input images and 3 is the number of channels RGB\n",
        "            batch_labels = np.zeros((batch_size,classes)) # batch_labels is the one hot representation of the output\n",
        "            for folder in range(batch_size): # iterate over the batch_size\n",
        "                imgs = os.listdir(source_path+'/'+ t[folder + (batch*batch_size)].split(';')[0]) # read all the images in the folder\n",
        "                for idx,item in enumerate(img_idx): #  Iterate iver the frames/images of a folder to read them in\n",
        "                    image = imread(source_path+'/'+ t[folder + (batch*batch_size)].strip().split(';')[0]+'/'+imgs[item]).astype(np.float32)\n",
        "                    \n",
        "                    #crop the images and resize them. Note that the images are of 2 different shape \n",
        "                    #and the conv3D will throw error if the inputs in a batch have different shapes\n",
        "                    temp = resize(image,(y,z))\n",
        "                    #Converting to gray scale\n",
        "                    temp = temp.mean(axis=-1,keepdims=1) \n",
        "                    temp = temp/127.5-1 #Normalize data\n",
        "                    \n",
        "                    batch_data[folder,idx] = temp\n",
        "                   \n",
        "                batch_labels[folder, int(t[folder + (batch*batch_size)].strip().split(';')[2])] = 1\n",
        "            yield batch_data, batch_labels"
      ],
      "execution_count": 16,
      "outputs": []
    },
    {
      "cell_type": "code",
      "metadata": {
        "colab": {
          "base_uri": "https://localhost:8080/"
        },
        "id": "l8dv4X9r7dNZ",
        "outputId": "10f19be4-98ff-4767-b988-5db943b6f6b9"
      },
      "source": [
        "# Define model b\n",
        "model_b = Sequential()\n",
        "model_b.add(Conv3D(32, kernel_size=(3, 3, 3), input_shape=(x,y,z,channel), padding='same'))\n",
        "model_b.add(Activation('relu'))\n",
        "model_b.add(Conv3D(32, kernel_size=(3, 3, 3), padding='same'))\n",
        "model_b.add(Activation('relu'))\n",
        "model_b.add(MaxPooling3D(pool_size=(3, 3, 3), padding='same'))\n",
        "model_b.add(Dropout(0.25))\n",
        "\n",
        "model_b.add(Conv3D(64, kernel_size=(3, 3, 3), padding='same'))\n",
        "model_b.add(Activation('relu'))\n",
        "model_b.add(Conv3D(64, kernel_size=(3, 3, 3), padding='same'))\n",
        "model_b.add(Activation('relu'))\n",
        "model_b.add(MaxPooling3D(pool_size=(3, 3, 3), padding='same'))\n",
        "model_b.add(Dropout(0.25))\n",
        "\n",
        "model_b.add(Flatten())\n",
        "model_b.add(Dense(512, activation='relu'))\n",
        "model_b.add(Dropout(0.5))\n",
        "model_b.add(Dense(classes, activation='softmax'))\n",
        "\n",
        "model_b.compile(optimizer='adam', loss='categorical_crossentropy', metrics=['categorical_accuracy'])\n",
        "model_b.summary()"
      ],
      "execution_count": null,
      "outputs": [
        {
          "output_type": "stream",
          "name": "stdout",
          "text": [
            "Model: \"sequential_2\"\n",
            "_________________________________________________________________\n",
            " Layer (type)                Output Shape              Param #   \n",
            "=================================================================\n",
            " conv3d_8 (Conv3D)           (None, 30, 120, 120, 32)  2624      \n",
            "                                                                 \n",
            " activation_8 (Activation)   (None, 30, 120, 120, 32)  0         \n",
            "                                                                 \n",
            " conv3d_9 (Conv3D)           (None, 30, 120, 120, 32)  27680     \n",
            "                                                                 \n",
            " activation_9 (Activation)   (None, 30, 120, 120, 32)  0         \n",
            "                                                                 \n",
            " max_pooling3d_8 (MaxPooling  (None, 10, 40, 40, 32)   0         \n",
            " 3D)                                                             \n",
            "                                                                 \n",
            " dropout_2 (Dropout)         (None, 10, 40, 40, 32)    0         \n",
            "                                                                 \n",
            " conv3d_10 (Conv3D)          (None, 10, 40, 40, 64)    55360     \n",
            "                                                                 \n",
            " activation_10 (Activation)  (None, 10, 40, 40, 64)    0         \n",
            "                                                                 \n",
            " conv3d_11 (Conv3D)          (None, 10, 40, 40, 64)    110656    \n",
            "                                                                 \n",
            " activation_11 (Activation)  (None, 10, 40, 40, 64)    0         \n",
            "                                                                 \n",
            " max_pooling3d_9 (MaxPooling  (None, 4, 14, 14, 64)    0         \n",
            " 3D)                                                             \n",
            "                                                                 \n",
            " dropout_3 (Dropout)         (None, 4, 14, 14, 64)     0         \n",
            "                                                                 \n",
            " flatten_2 (Flatten)         (None, 50176)             0         \n",
            "                                                                 \n",
            " dense_4 (Dense)             (None, 512)               25690624  \n",
            "                                                                 \n",
            " dropout_4 (Dropout)         (None, 512)               0         \n",
            "                                                                 \n",
            " dense_5 (Dense)             (None, 5)                 2565      \n",
            "                                                                 \n",
            "=================================================================\n",
            "Total params: 25,889,509\n",
            "Trainable params: 25,889,509\n",
            "Non-trainable params: 0\n",
            "_________________________________________________________________\n"
          ]
        }
      ]
    },
    {
      "cell_type": "code",
      "metadata": {
        "id": "mbzK78qC7dNh"
      },
      "source": [
        "train_generator = generator_ex(train_path, train_doc, batch_size)\n",
        "val_generator = generator_ex(val_path, val_doc, batch_size)"
      ],
      "execution_count": null,
      "outputs": []
    },
    {
      "cell_type": "code",
      "metadata": {
        "colab": {
          "base_uri": "https://localhost:8080/"
        },
        "id": "1FAdXioW7dNj",
        "outputId": "583e4473-46c4-4fdc-c3bc-d0e338fdf398"
      },
      "source": [
        "model_b.fit_generator(train_generator, steps_per_epoch=steps_per_epoch, epochs=num_epochs, verbose=1, \n",
        "                    callbacks=callbacks_list, validation_data=val_generator, \n",
        "                    validation_steps=validation_steps, class_weight=None, workers=1, initial_epoch=0)"
      ],
      "execution_count": null,
      "outputs": [
        {
          "output_type": "stream",
          "name": "stdout",
          "text": [
            "Source path =  Project_data/train ; batch size = 10\n",
            "Epoch 1/10\n",
            "65/67 [============================>.] - ETA: 9s - loss: 1.8773 - categorical_accuracy: 0.2046 Batch:  67 Index: 10\n",
            "67/67 [==============================] - ETA: 0s - loss: 1.8721 - categorical_accuracy: 0.2036Source path =  Project_data/val ; batch size = 10\n",
            "\n",
            "Epoch 00001: saving model to model_init_2021-11-1514_14_47.366825/model-00001-1.87213-0.20362-1.60878-0.23000.h5\n",
            "67/67 [==============================] - 417s 6s/step - loss: 1.8721 - categorical_accuracy: 0.2036 - val_loss: 1.6088 - val_categorical_accuracy: 0.2300 - lr: 0.0010\n",
            "Epoch 2/10\n",
            "67/67 [==============================] - ETA: 0s - loss: 1.6104 - categorical_accuracy: 0.1990\n",
            "Epoch 00002: saving model to model_init_2021-11-1514_14_47.366825/model-00002-1.61040-0.19900-1.60868-0.24000.h5\n",
            "67/67 [==============================] - 157s 2s/step - loss: 1.6104 - categorical_accuracy: 0.1990 - val_loss: 1.6087 - val_categorical_accuracy: 0.2400 - lr: 0.0010\n",
            "Epoch 3/10\n",
            "67/67 [==============================] - ETA: 0s - loss: 1.6107 - categorical_accuracy: 0.1990\n",
            "Epoch 00003: saving model to model_init_2021-11-1514_14_47.366825/model-00003-1.61072-0.19900-1.61010-0.20000.h5\n",
            "\n",
            "Epoch 00003: ReduceLROnPlateau reducing learning rate to 0.0005000000237487257.\n",
            "67/67 [==============================] - 165s 2s/step - loss: 1.6107 - categorical_accuracy: 0.1990 - val_loss: 1.6101 - val_categorical_accuracy: 0.2000 - lr: 0.0010\n",
            "Epoch 4/10\n",
            "67/67 [==============================] - ETA: 0s - loss: 1.6096 - categorical_accuracy: 0.1841\n",
            "Epoch 00004: saving model to model_init_2021-11-1514_14_47.366825/model-00004-1.60961-0.18408-1.60869-0.26000.h5\n",
            "67/67 [==============================] - 147s 2s/step - loss: 1.6096 - categorical_accuracy: 0.1841 - val_loss: 1.6087 - val_categorical_accuracy: 0.2600 - lr: 5.0000e-04\n",
            "Epoch 5/10\n",
            "67/67 [==============================] - ETA: 0s - loss: 1.6094 - categorical_accuracy: 0.2239\n",
            "Epoch 00005: saving model to model_init_2021-11-1514_14_47.366825/model-00005-1.60937-0.22388-1.60841-0.20000.h5\n",
            "67/67 [==============================] - 145s 2s/step - loss: 1.6094 - categorical_accuracy: 0.2239 - val_loss: 1.6084 - val_categorical_accuracy: 0.2000 - lr: 5.0000e-04\n",
            "Epoch 6/10\n",
            "67/67 [==============================] - ETA: 0s - loss: 1.6105 - categorical_accuracy: 0.1841\n",
            "Epoch 00006: saving model to model_init_2021-11-1514_14_47.366825/model-00006-1.61048-0.18408-1.61000-0.20000.h5\n",
            "67/67 [==============================] - 155s 2s/step - loss: 1.6105 - categorical_accuracy: 0.1841 - val_loss: 1.6100 - val_categorical_accuracy: 0.2000 - lr: 5.0000e-04\n",
            "Epoch 7/10\n",
            "67/67 [==============================] - ETA: 0s - loss: 1.6096 - categorical_accuracy: 0.2139\n",
            "Epoch 00007: saving model to model_init_2021-11-1514_14_47.366825/model-00007-1.60965-0.21393-1.60647-0.28000.h5\n",
            "67/67 [==============================] - 153s 2s/step - loss: 1.6096 - categorical_accuracy: 0.2139 - val_loss: 1.6065 - val_categorical_accuracy: 0.2800 - lr: 5.0000e-04\n",
            "Epoch 8/10\n",
            "67/67 [==============================] - ETA: 0s - loss: 1.6100 - categorical_accuracy: 0.1592\n",
            "Epoch 00008: saving model to model_init_2021-11-1514_14_47.366825/model-00008-1.60998-0.15920-1.60876-0.19000.h5\n",
            "67/67 [==============================] - 150s 2s/step - loss: 1.6100 - categorical_accuracy: 0.1592 - val_loss: 1.6088 - val_categorical_accuracy: 0.1900 - lr: 5.0000e-04\n",
            "Epoch 9/10\n",
            "67/67 [==============================] - ETA: 0s - loss: 1.6082 - categorical_accuracy: 0.2239\n",
            "Epoch 00009: saving model to model_init_2021-11-1514_14_47.366825/model-00009-1.60815-0.22388-1.60793-0.25000.h5\n",
            "\n",
            "Epoch 00009: ReduceLROnPlateau reducing learning rate to 0.0002500000118743628.\n",
            "67/67 [==============================] - 182s 3s/step - loss: 1.6082 - categorical_accuracy: 0.2239 - val_loss: 1.6079 - val_categorical_accuracy: 0.2500 - lr: 5.0000e-04\n",
            "Epoch 10/10\n",
            "67/67 [==============================] - ETA: 0s - loss: 1.6097 - categorical_accuracy: 0.1990\n",
            "Epoch 00010: saving model to model_init_2021-11-1514_14_47.366825/model-00010-1.60968-0.19900-1.61051-0.21000.h5\n",
            "67/67 [==============================] - 176s 3s/step - loss: 1.6097 - categorical_accuracy: 0.1990 - val_loss: 1.6105 - val_categorical_accuracy: 0.2100 - lr: 2.5000e-04\n"
          ]
        },
        {
          "output_type": "execute_result",
          "data": {
            "text/plain": [
              "<keras.callbacks.History at 0x7f419998f990>"
            ]
          },
          "metadata": {},
          "execution_count": 27
        }
      ]
    },
    {
      "cell_type": "markdown",
      "metadata": {
        "id": "h3TxURdQ7dNk"
      },
      "source": [
        "### Changing x,y,z values Experiment [1]"
      ]
    },
    {
      "cell_type": "code",
      "metadata": {
        "id": "1GyGvzjg7dNl"
      },
      "source": [
        "x = 30 # number of frames\n",
        "y = 60 # image width\n",
        "z = 60 # image height"
      ],
      "execution_count": null,
      "outputs": []
    },
    {
      "cell_type": "code",
      "metadata": {
        "colab": {
          "base_uri": "https://localhost:8080/"
        },
        "id": "z08LfaLc7dNm",
        "outputId": "a674a13d-8e87-44dd-a878-458768697722"
      },
      "source": [
        "# Define model b\n",
        "model_b = Sequential()\n",
        "model_b.add(Conv3D(32, kernel_size=(3, 3, 3), input_shape=(x,y,z,channel), padding='same'))\n",
        "model_b.add(Activation('relu'))\n",
        "model_b.add(Conv3D(32, kernel_size=(3, 3, 3), padding='same'))\n",
        "model_b.add(Activation('relu'))\n",
        "model_b.add(MaxPooling3D(pool_size=(3, 3, 3), padding='same'))\n",
        "model_b.add(Dropout(0.25))\n",
        "\n",
        "model_b.add(Conv3D(64, kernel_size=(3, 3, 3), padding='same'))\n",
        "model_b.add(Activation('relu'))\n",
        "model_b.add(Conv3D(64, kernel_size=(3, 3, 3), padding='same'))\n",
        "model_b.add(Activation('relu'))\n",
        "model_b.add(MaxPooling3D(pool_size=(3, 3, 3), padding='same'))\n",
        "model_b.add(Dropout(0.25))\n",
        "\n",
        "model_b.add(Flatten())\n",
        "model_b.add(Dense(512, activation='relu'))\n",
        "model_b.add(Dropout(0.5))\n",
        "model_b.add(Dense(classes, activation='softmax'))\n",
        "\n",
        "model_b.compile(optimizer='adam', loss='categorical_crossentropy', metrics=['categorical_accuracy'])\n",
        "model_b.summary()"
      ],
      "execution_count": null,
      "outputs": [
        {
          "output_type": "stream",
          "name": "stdout",
          "text": [
            "Model: \"sequential\"\n",
            "_________________________________________________________________\n",
            " Layer (type)                Output Shape              Param #   \n",
            "=================================================================\n",
            " conv3d (Conv3D)             (None, 30, 60, 60, 32)    2624      \n",
            "                                                                 \n",
            " activation (Activation)     (None, 30, 60, 60, 32)    0         \n",
            "                                                                 \n",
            " conv3d_1 (Conv3D)           (None, 30, 60, 60, 32)    27680     \n",
            "                                                                 \n",
            " activation_1 (Activation)   (None, 30, 60, 60, 32)    0         \n",
            "                                                                 \n",
            " max_pooling3d (MaxPooling3D  (None, 10, 20, 20, 32)   0         \n",
            " )                                                               \n",
            "                                                                 \n",
            " dropout (Dropout)           (None, 10, 20, 20, 32)    0         \n",
            "                                                                 \n",
            " conv3d_2 (Conv3D)           (None, 10, 20, 20, 64)    55360     \n",
            "                                                                 \n",
            " activation_2 (Activation)   (None, 10, 20, 20, 64)    0         \n",
            "                                                                 \n",
            " conv3d_3 (Conv3D)           (None, 10, 20, 20, 64)    110656    \n",
            "                                                                 \n",
            " activation_3 (Activation)   (None, 10, 20, 20, 64)    0         \n",
            "                                                                 \n",
            " max_pooling3d_1 (MaxPooling  (None, 4, 7, 7, 64)      0         \n",
            " 3D)                                                             \n",
            "                                                                 \n",
            " dropout_1 (Dropout)         (None, 4, 7, 7, 64)       0         \n",
            "                                                                 \n",
            " flatten (Flatten)           (None, 12544)             0         \n",
            "                                                                 \n",
            " dense (Dense)               (None, 512)               6423040   \n",
            "                                                                 \n",
            " dropout_2 (Dropout)         (None, 512)               0         \n",
            "                                                                 \n",
            " dense_1 (Dense)             (None, 5)                 2565      \n",
            "                                                                 \n",
            "=================================================================\n",
            "Total params: 6,621,925\n",
            "Trainable params: 6,621,925\n",
            "Non-trainable params: 0\n",
            "_________________________________________________________________\n"
          ]
        }
      ]
    },
    {
      "cell_type": "code",
      "metadata": {
        "id": "gVPTLfC27dNn"
      },
      "source": [
        "train_generator = generator_ex(train_path, train_doc, batch_size)\n",
        "val_generator = generator_ex(val_path, val_doc, batch_size)"
      ],
      "execution_count": null,
      "outputs": []
    },
    {
      "cell_type": "code",
      "metadata": {
        "colab": {
          "base_uri": "https://localhost:8080/"
        },
        "id": "a2F5So1S7dNo",
        "outputId": "2e624923-dce4-4d15-d6b5-b9f4a4c2ed47"
      },
      "source": [
        "model_b.fit_generator(train_generator, steps_per_epoch=steps_per_epoch, epochs=num_epochs, verbose=1, \n",
        "                    callbacks=callbacks_list, validation_data=val_generator, \n",
        "                    validation_steps=validation_steps, class_weight=None, workers=1, initial_epoch=0)"
      ],
      "execution_count": null,
      "outputs": [
        {
          "output_type": "stream",
          "name": "stdout",
          "text": [
            "Source path =  Project_data/train ; batch size = 10\n",
            "Epoch 1/10\n",
            "65/67 [============================>.] - ETA: 9s - loss: 1.6057 - categorical_accuracy: 0.2338 Batch:  67 Index: 10\n",
            "67/67 [==============================] - ETA: 0s - loss: 1.6036 - categorical_accuracy: 0.2353Source path =  Project_data/val ; batch size = 10\n",
            "\n",
            "Epoch 00001: saving model to model_init_2021-11-1514_14_47.366825/model-00001-1.60361-0.23529-1.54463-0.33000.h5\n",
            "67/67 [==============================] - 382s 6s/step - loss: 1.6036 - categorical_accuracy: 0.2353 - val_loss: 1.5446 - val_categorical_accuracy: 0.3300 - lr: 0.0010\n",
            "Epoch 2/10\n",
            "67/67 [==============================] - ETA: 0s - loss: 1.5196 - categorical_accuracy: 0.3582\n",
            "Epoch 00002: saving model to model_init_2021-11-1514_14_47.366825/model-00002-1.51955-0.35821-1.55259-0.23000.h5\n",
            "67/67 [==============================] - 191s 3s/step - loss: 1.5196 - categorical_accuracy: 0.3582 - val_loss: 1.5526 - val_categorical_accuracy: 0.2300 - lr: 0.0010\n",
            "Epoch 3/10\n",
            "67/67 [==============================] - ETA: 0s - loss: 1.5539 - categorical_accuracy: 0.2438\n",
            "Epoch 00003: saving model to model_init_2021-11-1514_14_47.366825/model-00003-1.55394-0.24378-1.46418-0.28000.h5\n",
            "67/67 [==============================] - 139s 2s/step - loss: 1.5539 - categorical_accuracy: 0.2438 - val_loss: 1.4642 - val_categorical_accuracy: 0.2800 - lr: 0.0010\n",
            "Epoch 4/10\n",
            "67/67 [==============================] - ETA: 0s - loss: 1.4833 - categorical_accuracy: 0.3184\n",
            "Epoch 00004: saving model to model_init_2021-11-1514_14_47.366825/model-00004-1.48325-0.31841-1.49293-0.40000.h5\n",
            "67/67 [==============================] - 145s 2s/step - loss: 1.4833 - categorical_accuracy: 0.3184 - val_loss: 1.4929 - val_categorical_accuracy: 0.4000 - lr: 0.0010\n",
            "Epoch 5/10\n",
            "67/67 [==============================] - ETA: 0s - loss: 1.4939 - categorical_accuracy: 0.3234\n",
            "Epoch 00005: saving model to model_init_2021-11-1514_14_47.366825/model-00005-1.49392-0.32338-1.41104-0.38000.h5\n",
            "67/67 [==============================] - 142s 2s/step - loss: 1.4939 - categorical_accuracy: 0.3234 - val_loss: 1.4110 - val_categorical_accuracy: 0.3800 - lr: 0.0010\n",
            "Epoch 6/10\n",
            "67/67 [==============================] - ETA: 0s - loss: 1.3711 - categorical_accuracy: 0.4030\n",
            "Epoch 00006: saving model to model_init_2021-11-1514_14_47.366825/model-00006-1.37114-0.40299-1.37825-0.39000.h5\n",
            "67/67 [==============================] - 150s 2s/step - loss: 1.3711 - categorical_accuracy: 0.4030 - val_loss: 1.3783 - val_categorical_accuracy: 0.3900 - lr: 0.0010\n",
            "Epoch 7/10\n",
            "67/67 [==============================] - ETA: 0s - loss: 1.4624 - categorical_accuracy: 0.3582\n",
            "Epoch 00007: saving model to model_init_2021-11-1514_14_47.366825/model-00007-1.46240-0.35821-1.36731-0.39000.h5\n",
            "67/67 [==============================] - 144s 2s/step - loss: 1.4624 - categorical_accuracy: 0.3582 - val_loss: 1.3673 - val_categorical_accuracy: 0.3900 - lr: 0.0010\n",
            "Epoch 8/10\n",
            "67/67 [==============================] - ETA: 0s - loss: 1.2834 - categorical_accuracy: 0.4378\n",
            "Epoch 00008: saving model to model_init_2021-11-1514_14_47.366825/model-00008-1.28342-0.43781-1.32956-0.50000.h5\n",
            "67/67 [==============================] - 159s 2s/step - loss: 1.2834 - categorical_accuracy: 0.4378 - val_loss: 1.3296 - val_categorical_accuracy: 0.5000 - lr: 0.0010\n",
            "Epoch 9/10\n",
            "67/67 [==============================] - ETA: 0s - loss: 1.2413 - categorical_accuracy: 0.4726\n",
            "Epoch 00009: saving model to model_init_2021-11-1514_14_47.366825/model-00009-1.24129-0.47264-1.36736-0.42000.h5\n",
            "67/67 [==============================] - 159s 2s/step - loss: 1.2413 - categorical_accuracy: 0.4726 - val_loss: 1.3674 - val_categorical_accuracy: 0.4200 - lr: 0.0010\n",
            "Epoch 10/10\n",
            "67/67 [==============================] - ETA: 0s - loss: 1.3035 - categorical_accuracy: 0.4378\n",
            "Epoch 00010: saving model to model_init_2021-11-1514_14_47.366825/model-00010-1.30350-0.43781-1.24809-0.42000.h5\n",
            "67/67 [==============================] - 153s 2s/step - loss: 1.3035 - categorical_accuracy: 0.4378 - val_loss: 1.2481 - val_categorical_accuracy: 0.4200 - lr: 0.0010\n"
          ]
        },
        {
          "output_type": "execute_result",
          "data": {
            "text/plain": [
              "<keras.callbacks.History at 0x7f4198f1f710>"
            ]
          },
          "metadata": {},
          "execution_count": 31
        }
      ]
    },
    {
      "cell_type": "markdown",
      "metadata": {
        "id": "bb64fLpF7dNp"
      },
      "source": [
        "### Changing Batch size to 20 Experiment [2]"
      ]
    },
    {
      "cell_type": "code",
      "metadata": {
        "id": "MIEHOIxj7dNp"
      },
      "source": [
        "train_generator = generator_ex(train_path, train_doc, 20)\n",
        "val_generator = generator_ex(val_path, val_doc, 20)"
      ],
      "execution_count": null,
      "outputs": []
    },
    {
      "cell_type": "code",
      "metadata": {
        "colab": {
          "base_uri": "https://localhost:8080/"
        },
        "id": "epA_6npq7dNq",
        "outputId": "12b0b54c-689c-42ec-f321-4200aea2e010"
      },
      "source": [
        "model_b.fit_generator(train_generator, steps_per_epoch=steps_per_epoch, epochs=num_epochs, verbose=1, \n",
        "                    callbacks=callbacks_list, validation_data=val_generator, \n",
        "                    validation_steps=validation_steps, class_weight=None, workers=1, initial_epoch=0)"
      ],
      "execution_count": null,
      "outputs": [
        {
          "output_type": "stream",
          "name": "stdout",
          "text": [
            "Source path =  Project_data/train ; batch size = 20\n",
            "Epoch 1/10\n",
            "32/67 [=============>................] - ETA: 5:06 - loss: 1.1061 - categorical_accuracy: 0.5250Batch:  34 Index: 20\n",
            "67/67 [==============================] - ETA: 0s - loss: 1.1034 - categorical_accuracy: 0.5157Source path =  Project_data/val ; batch size = 20\n",
            "\n",
            "Epoch 00001: saving model to model_init_2021-11-1514_14_47.366825/model-00001-1.10341-0.51575-1.82532-0.37000.h5\n",
            "67/67 [==============================] - 455s 7s/step - loss: 1.1034 - categorical_accuracy: 0.5157 - val_loss: 1.8253 - val_categorical_accuracy: 0.3700 - lr: 0.0010\n",
            "Epoch 2/10\n",
            "67/67 [==============================] - ETA: 0s - loss: 1.2471 - categorical_accuracy: 0.5075\n",
            "Epoch 00002: saving model to model_init_2021-11-1514_14_47.366825/model-00002-1.24713-0.50746-1.25879-0.44500.h5\n",
            "67/67 [==============================] - 204s 3s/step - loss: 1.2471 - categorical_accuracy: 0.5075 - val_loss: 1.2588 - val_categorical_accuracy: 0.4450 - lr: 0.0010\n",
            "Epoch 3/10\n",
            "67/67 [==============================] - ETA: 0s - loss: 1.1882 - categorical_accuracy: 0.5075\n",
            "Epoch 00003: saving model to model_init_2021-11-1514_14_47.366825/model-00003-1.18822-0.50746-1.20327-0.49000.h5\n",
            "67/67 [==============================] - 198s 3s/step - loss: 1.1882 - categorical_accuracy: 0.5075 - val_loss: 1.2033 - val_categorical_accuracy: 0.4900 - lr: 0.0010\n",
            "Epoch 4/10\n",
            "67/67 [==============================] - ETA: 0s - loss: 1.2004 - categorical_accuracy: 0.4577\n",
            "Epoch 00004: saving model to model_init_2021-11-1514_14_47.366825/model-00004-1.20039-0.45771-1.24278-0.51000.h5\n",
            "67/67 [==============================] - 209s 3s/step - loss: 1.2004 - categorical_accuracy: 0.4577 - val_loss: 1.2428 - val_categorical_accuracy: 0.5100 - lr: 0.0010\n",
            "Epoch 5/10\n",
            "67/67 [==============================] - ETA: 0s - loss: 0.9326 - categorical_accuracy: 0.6020\n",
            "Epoch 00005: saving model to model_init_2021-11-1514_14_47.366825/model-00005-0.93264-0.60199-1.23721-0.52000.h5\n",
            "\n",
            "Epoch 00005: ReduceLROnPlateau reducing learning rate to 0.0005000000237487257.\n",
            "67/67 [==============================] - 201s 3s/step - loss: 0.9326 - categorical_accuracy: 0.6020 - val_loss: 1.2372 - val_categorical_accuracy: 0.5200 - lr: 0.0010\n",
            "Epoch 6/10\n",
            "67/67 [==============================] - ETA: 0s - loss: 1.0826 - categorical_accuracy: 0.5622\n",
            "Epoch 00006: saving model to model_init_2021-11-1514_14_47.366825/model-00006-1.08265-0.56219-1.13300-0.53000.h5\n",
            "67/67 [==============================] - 204s 3s/step - loss: 1.0826 - categorical_accuracy: 0.5622 - val_loss: 1.1330 - val_categorical_accuracy: 0.5300 - lr: 5.0000e-04\n",
            "Epoch 7/10\n",
            "67/67 [==============================] - ETA: 0s - loss: 0.9663 - categorical_accuracy: 0.6070\n",
            "Epoch 00007: saving model to model_init_2021-11-1514_14_47.366825/model-00007-0.96631-0.60697-1.19977-0.49000.h5\n",
            "67/67 [==============================] - 201s 3s/step - loss: 0.9663 - categorical_accuracy: 0.6070 - val_loss: 1.1998 - val_categorical_accuracy: 0.4900 - lr: 5.0000e-04\n",
            "Epoch 8/10\n",
            "67/67 [==============================] - ETA: 0s - loss: 0.7185 - categorical_accuracy: 0.7662\n",
            "Epoch 00008: saving model to model_init_2021-11-1514_14_47.366825/model-00008-0.71846-0.76617-1.31080-0.50000.h5\n",
            "\n",
            "Epoch 00008: ReduceLROnPlateau reducing learning rate to 0.0002500000118743628.\n",
            "67/67 [==============================] - 224s 3s/step - loss: 0.7185 - categorical_accuracy: 0.7662 - val_loss: 1.3108 - val_categorical_accuracy: 0.5000 - lr: 5.0000e-04\n",
            "Epoch 9/10\n",
            "67/67 [==============================] - ETA: 0s - loss: 0.7047 - categorical_accuracy: 0.7264\n",
            "Epoch 00009: saving model to model_init_2021-11-1514_14_47.366825/model-00009-0.70473-0.72637-1.14853-0.53000.h5\n",
            "67/67 [==============================] - 209s 3s/step - loss: 0.7047 - categorical_accuracy: 0.7264 - val_loss: 1.1485 - val_categorical_accuracy: 0.5300 - lr: 2.5000e-04\n",
            "Epoch 10/10\n",
            "67/67 [==============================] - ETA: 0s - loss: 0.7137 - categorical_accuracy: 0.6965\n",
            "Epoch 00010: saving model to model_init_2021-11-1514_14_47.366825/model-00010-0.71366-0.69652-1.19249-0.47000.h5\n",
            "\n",
            "Epoch 00010: ReduceLROnPlateau reducing learning rate to 0.0001250000059371814.\n",
            "67/67 [==============================] - 235s 4s/step - loss: 0.7137 - categorical_accuracy: 0.6965 - val_loss: 1.1925 - val_categorical_accuracy: 0.4700 - lr: 2.5000e-04\n"
          ]
        },
        {
          "output_type": "execute_result",
          "data": {
            "text/plain": [
              "<keras.callbacks.History at 0x7f4198f7d110>"
            ]
          },
          "metadata": {},
          "execution_count": 33
        }
      ]
    },
    {
      "cell_type": "markdown",
      "metadata": {
        "id": "B1q_R_fL7dNt"
      },
      "source": [
        "### Changing Batch size to 40 Experiment [3]"
      ]
    },
    {
      "cell_type": "code",
      "metadata": {
        "id": "P7vBMi6f7dNu"
      },
      "source": [
        "train_generator = generator_ex(train_path, train_doc, 40)\n",
        "val_generator = generator_ex(val_path, val_doc, 40)"
      ],
      "execution_count": null,
      "outputs": []
    },
    {
      "cell_type": "code",
      "metadata": {
        "colab": {
          "base_uri": "https://localhost:8080/"
        },
        "id": "BWX3ChYi7dNv",
        "outputId": "5ef24c35-9bb5-4fa5-a0f0-16bc4c2d22df"
      },
      "source": [
        "model_b.fit_generator(train_generator, steps_per_epoch=steps_per_epoch, epochs=num_epochs, verbose=1, \n",
        "                    callbacks=callbacks_list, validation_data=val_generator, \n",
        "                    validation_steps=validation_steps, class_weight=None, workers=1, initial_epoch=0)"
      ],
      "execution_count": null,
      "outputs": [
        {
          "output_type": "stream",
          "name": "stdout",
          "text": [
            "Source path =  Project_data/train ; batch size = 40\n",
            "Epoch 1/10\n",
            "15/67 [=====>........................] - ETA: 15:28 - loss: 0.4603 - categorical_accuracy: 0.8333Batch:  17 Index: 40\n",
            "44/67 [==================>...........] - ETA: 4:57 - loss: 0.4657 - categorical_accuracy: 0.8310Batch:  29 Index: 23\n",
            "67/67 [==============================] - ETA: 0s - loss: 0.4654 - categorical_accuracy: 0.8342 Source path =  Project_data/val ; batch size = 40\n",
            "Batch:  3 Index: 40\n",
            "\n",
            "Epoch 00001: saving model to model_init_2021-11-1514_14_47.366825/model-00001-0.46541-0.83420-1.30332-0.47083.h5\n",
            "67/67 [==============================] - 892s 13s/step - loss: 0.4654 - categorical_accuracy: 0.8342 - val_loss: 1.3033 - val_categorical_accuracy: 0.4708 - lr: 7.8125e-06\n",
            "Epoch 2/10\n",
            "12/67 [====>.........................] - ETA: 7:53 - loss: 0.5040 - categorical_accuracy: 0.8202Batch:  35 Index: 19\n",
            "67/67 [==============================] - ETA: 0s - loss: 0.4706 - categorical_accuracy: 0.8335\n",
            "Epoch 00002: saving model to model_init_2021-11-1514_14_47.366825/model-00002-0.47065-0.83348-1.24041-0.50000.h5\n",
            "67/67 [==============================] - 630s 10s/step - loss: 0.4706 - categorical_accuracy: 0.8335 - val_loss: 1.2404 - val_categorical_accuracy: 0.5000 - lr: 7.8125e-06\n",
            "Epoch 3/10\n",
            "67/67 [==============================] - ETA: 0s - loss: 0.4580 - categorical_accuracy: 0.8306\n",
            "Epoch 00003: saving model to model_init_2021-11-1514_14_47.366825/model-00003-0.45800-0.83055-1.34558-0.46500.h5\n",
            "67/67 [==============================] - 588s 9s/step - loss: 0.4580 - categorical_accuracy: 0.8306 - val_loss: 1.3456 - val_categorical_accuracy: 0.4650 - lr: 7.8125e-06\n",
            "Epoch 4/10\n",
            "67/67 [==============================] - ETA: 0s - loss: 0.4604 - categorical_accuracy: 0.8437\n",
            "Epoch 00004: saving model to model_init_2021-11-1514_14_47.366825/model-00004-0.46038-0.84372-1.29936-0.48000.h5\n",
            "\n",
            "Epoch 00004: ReduceLROnPlateau reducing learning rate to 3.906250185536919e-06.\n",
            "67/67 [==============================] - 612s 9s/step - loss: 0.4604 - categorical_accuracy: 0.8437 - val_loss: 1.2994 - val_categorical_accuracy: 0.4800 - lr: 7.8125e-06\n",
            "Epoch 5/10\n",
            "67/67 [==============================] - ETA: 0s - loss: 0.4239 - categorical_accuracy: 0.8367\n",
            "Epoch 00005: saving model to model_init_2021-11-1514_14_47.366825/model-00005-0.42395-0.83670-1.36932-0.47000.h5\n",
            "67/67 [==============================] - 601s 9s/step - loss: 0.4239 - categorical_accuracy: 0.8367 - val_loss: 1.3693 - val_categorical_accuracy: 0.4700 - lr: 3.9063e-06\n",
            "Epoch 6/10\n",
            "67/67 [==============================] - ETA: 0s - loss: 0.4571 - categorical_accuracy: 0.8420\n",
            "Epoch 00006: saving model to model_init_2021-11-1514_14_47.366825/model-00006-0.45713-0.84197-1.23206-0.49000.h5\n",
            "67/67 [==============================] - 584s 9s/step - loss: 0.4571 - categorical_accuracy: 0.8420 - val_loss: 1.2321 - val_categorical_accuracy: 0.4900 - lr: 3.9063e-06\n",
            "Epoch 7/10\n",
            "67/67 [==============================] - ETA: 0s - loss: 0.4736 - categorical_accuracy: 0.8306\n",
            "Epoch 00007: saving model to model_init_2021-11-1514_14_47.366825/model-00007-0.47355-0.83055-1.42181-0.45000.h5\n",
            "67/67 [==============================] - 647s 10s/step - loss: 0.4736 - categorical_accuracy: 0.8306 - val_loss: 1.4218 - val_categorical_accuracy: 0.4500 - lr: 3.9063e-06\n",
            "Epoch 8/10\n",
            "67/67 [==============================] - ETA: 0s - loss: 0.4452 - categorical_accuracy: 0.8358\n",
            "Epoch 00008: saving model to model_init_2021-11-1514_14_47.366825/model-00008-0.44524-0.83582-1.22691-0.50000.h5\n",
            "67/67 [==============================] - 649s 10s/step - loss: 0.4452 - categorical_accuracy: 0.8358 - val_loss: 1.2269 - val_categorical_accuracy: 0.5000 - lr: 3.9063e-06\n",
            "Epoch 9/10\n",
            "67/67 [==============================] - ETA: 0s - loss: 0.4674 - categorical_accuracy: 0.8323\n",
            "Epoch 00009: saving model to model_init_2021-11-1514_14_47.366825/model-00009-0.46739-0.83231-1.30200-0.48000.h5\n",
            "67/67 [==============================] - 632s 10s/step - loss: 0.4674 - categorical_accuracy: 0.8323 - val_loss: 1.3020 - val_categorical_accuracy: 0.4800 - lr: 3.9063e-06\n",
            "Epoch 10/10\n",
            "67/67 [==============================] - ETA: 0s - loss: 0.4412 - categorical_accuracy: 0.8402\n",
            "Epoch 00010: saving model to model_init_2021-11-1514_14_47.366825/model-00010-0.44116-0.84021-1.27767-0.49500.h5\n",
            "\n",
            "Epoch 00010: ReduceLROnPlateau reducing learning rate to 1.9531250927684596e-06.\n",
            "67/67 [==============================] - 629s 10s/step - loss: 0.4412 - categorical_accuracy: 0.8402 - val_loss: 1.2777 - val_categorical_accuracy: 0.4950 - lr: 3.9063e-06\n"
          ]
        },
        {
          "output_type": "execute_result",
          "data": {
            "text/plain": [
              "<keras.callbacks.History at 0x7f4198cd2590>"
            ]
          },
          "metadata": {},
          "execution_count": 37
        }
      ]
    },
    {
      "cell_type": "markdown",
      "metadata": {
        "id": "W0TPRZYS7dNx"
      },
      "source": [
        "### Change Optimizer to Adadelta Experiment [4]"
      ]
    },
    {
      "cell_type": "code",
      "metadata": {
        "colab": {
          "base_uri": "https://localhost:8080/"
        },
        "id": "NZruZuZA7dNx",
        "outputId": "4c9fbb0c-c28f-4922-ab66-239c7edc5768"
      },
      "source": [
        "model_b.compile(optimizer='adadelta', loss='categorical_crossentropy', metrics=['categorical_accuracy'])\n",
        "model_b.summary()"
      ],
      "execution_count": null,
      "outputs": [
        {
          "output_type": "stream",
          "name": "stdout",
          "text": [
            "Model: \"sequential_3\"\n",
            "_________________________________________________________________\n",
            " Layer (type)                Output Shape              Param #   \n",
            "=================================================================\n",
            " conv3d_12 (Conv3D)          (None, 30, 60, 60, 32)    2624      \n",
            "                                                                 \n",
            " activation_12 (Activation)  (None, 30, 60, 60, 32)    0         \n",
            "                                                                 \n",
            " conv3d_13 (Conv3D)          (None, 30, 60, 60, 32)    27680     \n",
            "                                                                 \n",
            " activation_13 (Activation)  (None, 30, 60, 60, 32)    0         \n",
            "                                                                 \n",
            " max_pooling3d_10 (MaxPoolin  (None, 10, 20, 20, 32)   0         \n",
            " g3D)                                                            \n",
            "                                                                 \n",
            " dropout_5 (Dropout)         (None, 10, 20, 20, 32)    0         \n",
            "                                                                 \n",
            " conv3d_14 (Conv3D)          (None, 10, 20, 20, 64)    55360     \n",
            "                                                                 \n",
            " activation_14 (Activation)  (None, 10, 20, 20, 64)    0         \n",
            "                                                                 \n",
            " conv3d_15 (Conv3D)          (None, 10, 20, 20, 64)    110656    \n",
            "                                                                 \n",
            " activation_15 (Activation)  (None, 10, 20, 20, 64)    0         \n",
            "                                                                 \n",
            " max_pooling3d_11 (MaxPoolin  (None, 4, 7, 7, 64)      0         \n",
            " g3D)                                                            \n",
            "                                                                 \n",
            " dropout_6 (Dropout)         (None, 4, 7, 7, 64)       0         \n",
            "                                                                 \n",
            " flatten_3 (Flatten)         (None, 12544)             0         \n",
            "                                                                 \n",
            " dense_6 (Dense)             (None, 512)               6423040   \n",
            "                                                                 \n",
            " dropout_7 (Dropout)         (None, 512)               0         \n",
            "                                                                 \n",
            " dense_7 (Dense)             (None, 5)                 2565      \n",
            "                                                                 \n",
            "=================================================================\n",
            "Total params: 6,621,925\n",
            "Trainable params: 6,621,925\n",
            "Non-trainable params: 0\n",
            "_________________________________________________________________\n"
          ]
        }
      ]
    },
    {
      "cell_type": "code",
      "metadata": {
        "id": "ri4Uxc4s7dNy"
      },
      "source": [
        "train_generator = generator_ex(train_path, train_doc, 40)\n",
        "val_generator = generator_ex(val_path, val_doc, 40)"
      ],
      "execution_count": null,
      "outputs": []
    },
    {
      "cell_type": "code",
      "metadata": {
        "colab": {
          "base_uri": "https://localhost:8080/"
        },
        "id": "Im5joi4V7dNz",
        "outputId": "92354622-dba5-4867-d3a8-367a47ffa473"
      },
      "source": [
        "model_b.fit_generator(train_generator, steps_per_epoch=steps_per_epoch, epochs=num_epochs, verbose=1, \n",
        "                    callbacks=callbacks_list, validation_data=val_generator, \n",
        "                    validation_steps=validation_steps, class_weight=None, workers=1, initial_epoch=0)"
      ],
      "execution_count": null,
      "outputs": [
        {
          "output_type": "stream",
          "name": "stdout",
          "text": [
            "Source path =  Project_data/train ; batch size = 40\n",
            "Epoch 1/10\n",
            "15/67 [=====>........................] - ETA: 14:55 - loss: 0.4513 - categorical_accuracy: 0.8367Batch:  17 Index: 40\n",
            "44/67 [==================>...........] - ETA: 4:48 - loss: 0.4351 - categorical_accuracy: 0.8442Batch:  29 Index: 23\n",
            "67/67 [==============================] - ETA: 0s - loss: 0.4390 - categorical_accuracy: 0.8400 Source path =  Project_data/val ; batch size = 40\n",
            "Batch:  3 Index: 40\n",
            "\n",
            "Epoch 00001: saving model to model_init_2021-11-1514_14_47.366825/model-00001-0.43898-0.84000-1.36536-0.46250.h5\n",
            "67/67 [==============================] - 881s 13s/step - loss: 0.4390 - categorical_accuracy: 0.8400 - val_loss: 1.3654 - val_categorical_accuracy: 0.4625 - lr: 0.0010\n",
            "Epoch 2/10\n",
            "12/67 [====>.........................] - ETA: 8:01 - loss: 0.4932 - categorical_accuracy: 0.8202Batch:  35 Index: 19\n",
            "67/67 [==============================] - ETA: 0s - loss: 0.4491 - categorical_accuracy: 0.8421\n",
            "Epoch 00002: saving model to model_init_2021-11-1514_14_47.366825/model-00002-0.44906-0.84206-1.28738-0.48000.h5\n",
            "67/67 [==============================] - 638s 10s/step - loss: 0.4491 - categorical_accuracy: 0.8421 - val_loss: 1.2874 - val_categorical_accuracy: 0.4800 - lr: 0.0010\n",
            "Epoch 3/10\n",
            "67/67 [==============================] - ETA: 0s - loss: 0.4512 - categorical_accuracy: 0.8437\n",
            "Epoch 00003: saving model to model_init_2021-11-1514_14_47.366825/model-00003-0.45121-0.84372-1.33289-0.47500.h5\n",
            "67/67 [==============================] - 691s 10s/step - loss: 0.4512 - categorical_accuracy: 0.8437 - val_loss: 1.3329 - val_categorical_accuracy: 0.4750 - lr: 0.0010\n",
            "Epoch 4/10\n",
            "67/67 [==============================] - ETA: 0s - loss: 0.4452 - categorical_accuracy: 0.8341\n",
            "Epoch 00004: saving model to model_init_2021-11-1514_14_47.366825/model-00004-0.44521-0.83406-1.30516-0.48000.h5\n",
            "\n",
            "Epoch 00004: ReduceLROnPlateau reducing learning rate to 0.0005000000237487257.\n",
            "67/67 [==============================] - 677s 10s/step - loss: 0.4452 - categorical_accuracy: 0.8341 - val_loss: 1.3052 - val_categorical_accuracy: 0.4800 - lr: 0.0010\n",
            "Epoch 5/10\n",
            "67/67 [==============================] - ETA: 0s - loss: 0.4374 - categorical_accuracy: 0.8499\n",
            "Epoch 00005: saving model to model_init_2021-11-1514_14_47.366825/model-00005-0.43744-0.84987-1.29855-0.47500.h5\n",
            "67/67 [==============================] - 667s 10s/step - loss: 0.4374 - categorical_accuracy: 0.8499 - val_loss: 1.2986 - val_categorical_accuracy: 0.4750 - lr: 5.0000e-04\n",
            "Epoch 6/10\n",
            "67/67 [==============================] - ETA: 0s - loss: 0.4300 - categorical_accuracy: 0.8490\n",
            "Epoch 00006: saving model to model_init_2021-11-1514_14_47.366825/model-00006-0.43000-0.84899-1.36737-0.45500.h5\n",
            "\n",
            "Epoch 00006: ReduceLROnPlateau reducing learning rate to 0.0002500000118743628.\n",
            "67/67 [==============================] - 638s 10s/step - loss: 0.4300 - categorical_accuracy: 0.8490 - val_loss: 1.3674 - val_categorical_accuracy: 0.4550 - lr: 5.0000e-04\n",
            "Epoch 7/10\n",
            "67/67 [==============================] - ETA: 0s - loss: 0.4587 - categorical_accuracy: 0.8402\n",
            "Epoch 00007: saving model to model_init_2021-11-1514_14_47.366825/model-00007-0.45874-0.84021-1.20019-0.51500.h5\n",
            "67/67 [==============================] - 671s 10s/step - loss: 0.4587 - categorical_accuracy: 0.8402 - val_loss: 1.2002 - val_categorical_accuracy: 0.5150 - lr: 2.5000e-04\n",
            "Epoch 8/10\n",
            "67/67 [==============================] - ETA: 0s - loss: 0.4327 - categorical_accuracy: 0.8464\n",
            "Epoch 00008: saving model to model_init_2021-11-1514_14_47.366825/model-00008-0.43265-0.84636-1.31282-0.49000.h5\n",
            "67/67 [==============================] - 610s 9s/step - loss: 0.4327 - categorical_accuracy: 0.8464 - val_loss: 1.3128 - val_categorical_accuracy: 0.4900 - lr: 2.5000e-04\n",
            "Epoch 9/10\n",
            "67/67 [==============================] - ETA: 0s - loss: 0.4448 - categorical_accuracy: 0.8358\n",
            "Epoch 00009: saving model to model_init_2021-11-1514_14_47.366825/model-00009-0.44477-0.83582-1.30570-0.48000.h5\n",
            "\n",
            "Epoch 00009: ReduceLROnPlateau reducing learning rate to 0.0001250000059371814.\n",
            "67/67 [==============================] - 602s 9s/step - loss: 0.4448 - categorical_accuracy: 0.8358 - val_loss: 1.3057 - val_categorical_accuracy: 0.4800 - lr: 2.5000e-04\n",
            "Epoch 10/10\n",
            "67/67 [==============================] - ETA: 0s - loss: 0.4610 - categorical_accuracy: 0.8385\n",
            "Epoch 00010: saving model to model_init_2021-11-1514_14_47.366825/model-00010-0.46102-0.83845-1.32640-0.46500.h5\n",
            "67/67 [==============================] - 620s 9s/step - loss: 0.4610 - categorical_accuracy: 0.8385 - val_loss: 1.3264 - val_categorical_accuracy: 0.4650 - lr: 1.2500e-04\n"
          ]
        },
        {
          "output_type": "execute_result",
          "data": {
            "text/plain": [
              "<keras.callbacks.History at 0x7f4198b6c0d0>"
            ]
          },
          "metadata": {},
          "execution_count": 40
        }
      ]
    },
    {
      "cell_type": "markdown",
      "metadata": {
        "id": "soEQ2DXE7dNz"
      },
      "source": [
        "### Change epoch to 20 Experiment [5]"
      ]
    },
    {
      "cell_type": "code",
      "metadata": {
        "colab": {
          "base_uri": "https://localhost:8080/"
        },
        "id": "G9VhYSAk7dN0",
        "outputId": "2409dfd8-5382-4c7b-f499-1e043901faf0"
      },
      "source": [
        "num_epochs = 20 # choose the number of epochs\n",
        "print ('# epochs =', num_epochs)"
      ],
      "execution_count": null,
      "outputs": [
        {
          "output_type": "stream",
          "name": "stdout",
          "text": [
            "# epochs = 20\n"
          ]
        }
      ]
    },
    {
      "cell_type": "code",
      "metadata": {
        "colab": {
          "base_uri": "https://localhost:8080/"
        },
        "id": "MF8EAhxX7dN1",
        "outputId": "c993616f-dd53-49e8-b216-832be9ad349d"
      },
      "source": [
        "model_b.compile(optimizer='adadelta', loss='categorical_crossentropy', metrics=['categorical_accuracy'])\n",
        "model_b.summary()"
      ],
      "execution_count": null,
      "outputs": [
        {
          "output_type": "stream",
          "name": "stdout",
          "text": [
            "Model: \"sequential\"\n",
            "_________________________________________________________________\n",
            " Layer (type)                Output Shape              Param #   \n",
            "=================================================================\n",
            " conv3d (Conv3D)             (None, 30, 60, 60, 32)    2624      \n",
            "                                                                 \n",
            " activation (Activation)     (None, 30, 60, 60, 32)    0         \n",
            "                                                                 \n",
            " conv3d_1 (Conv3D)           (None, 30, 60, 60, 32)    27680     \n",
            "                                                                 \n",
            " activation_1 (Activation)   (None, 30, 60, 60, 32)    0         \n",
            "                                                                 \n",
            " max_pooling3d (MaxPooling3D  (None, 10, 20, 20, 32)   0         \n",
            " )                                                               \n",
            "                                                                 \n",
            " dropout (Dropout)           (None, 10, 20, 20, 32)    0         \n",
            "                                                                 \n",
            " conv3d_2 (Conv3D)           (None, 10, 20, 20, 64)    55360     \n",
            "                                                                 \n",
            " activation_2 (Activation)   (None, 10, 20, 20, 64)    0         \n",
            "                                                                 \n",
            " conv3d_3 (Conv3D)           (None, 10, 20, 20, 64)    110656    \n",
            "                                                                 \n",
            " activation_3 (Activation)   (None, 10, 20, 20, 64)    0         \n",
            "                                                                 \n",
            " max_pooling3d_1 (MaxPooling  (None, 4, 7, 7, 64)      0         \n",
            " 3D)                                                             \n",
            "                                                                 \n",
            " dropout_1 (Dropout)         (None, 4, 7, 7, 64)       0         \n",
            "                                                                 \n",
            " flatten (Flatten)           (None, 12544)             0         \n",
            "                                                                 \n",
            " dense (Dense)               (None, 512)               6423040   \n",
            "                                                                 \n",
            " dropout_2 (Dropout)         (None, 512)               0         \n",
            "                                                                 \n",
            " dense_1 (Dense)             (None, 5)                 2565      \n",
            "                                                                 \n",
            "=================================================================\n",
            "Total params: 6,621,925\n",
            "Trainable params: 6,621,925\n",
            "Non-trainable params: 0\n",
            "_________________________________________________________________\n"
          ]
        }
      ]
    },
    {
      "cell_type": "code",
      "metadata": {
        "id": "JuJLOM767dN3"
      },
      "source": [
        "train_generator = generator_ex(train_path, train_doc, 40)\n",
        "val_generator = generator_ex(val_path, val_doc, 40)"
      ],
      "execution_count": null,
      "outputs": []
    },
    {
      "cell_type": "code",
      "metadata": {
        "colab": {
          "base_uri": "https://localhost:8080/"
        },
        "id": "gjtKDHiA7dN4",
        "outputId": "2623acd1-452e-4086-8c6f-1d0e57d50018"
      },
      "source": [
        "model_b.fit_generator(train_generator, steps_per_epoch=steps_per_epoch, epochs=num_epochs, verbose=1, \n",
        "                    callbacks=callbacks_list, validation_data=val_generator, \n",
        "                    validation_steps=validation_steps, class_weight=None, workers=1, initial_epoch=0)"
      ],
      "execution_count": null,
      "outputs": [
        {
          "output_type": "stream",
          "name": "stdout",
          "text": [
            "Source path =  Project_data/train ; batch size = 40\n",
            "Epoch 1/20\n",
            "15/67 [=====>........................] - ETA: 12:05 - loss: 1.6174 - categorical_accuracy: 0.2150Batch:  17 Index: 40\n",
            "44/67 [==================>...........] - ETA: 4:04 - loss: 1.6207 - categorical_accuracy: 0.2165Batch:  29 Index: 23\n",
            "67/67 [==============================] - ETA: 0s - loss: 1.6195 - categorical_accuracy: 0.2099Source path =  Project_data/val ; batch size = 40\n",
            "Batch:  3 Index: 40\n",
            "\n",
            "Epoch 00001: saving model to model_init_2021-11-1805_58_48.010909/model-00001-1.61954-0.20986-1.60223-0.17083.h5\n",
            "67/67 [==============================] - 770s 11s/step - loss: 1.6195 - categorical_accuracy: 0.2099 - val_loss: 1.6022 - val_categorical_accuracy: 0.1708 - lr: 0.0010\n",
            "Epoch 2/20\n",
            "12/67 [====>.........................] - ETA: 6:33 - loss: 1.6088 - categorical_accuracy: 0.2368Batch:  35 Index: 19\n",
            "67/67 [==============================] - ETA: 0s - loss: 1.6166 - categorical_accuracy: 0.2009\n",
            "Epoch 00002: saving model to model_init_2021-11-1805_58_48.010909/model-00002-1.61656-0.20086-1.59843-0.22500.h5\n",
            "67/67 [==============================] - 532s 8s/step - loss: 1.6166 - categorical_accuracy: 0.2009 - val_loss: 1.5984 - val_categorical_accuracy: 0.2250 - lr: 0.0010\n",
            "Epoch 3/20\n",
            "67/67 [==============================] - ETA: 0s - loss: 1.6089 - categorical_accuracy: 0.2169\n",
            "Epoch 00003: saving model to model_init_2021-11-1805_58_48.010909/model-00003-1.60890-0.21686-1.59872-0.22000.h5\n",
            "67/67 [==============================] - 504s 8s/step - loss: 1.6089 - categorical_accuracy: 0.2169 - val_loss: 1.5987 - val_categorical_accuracy: 0.2200 - lr: 0.0010\n",
            "Epoch 4/20\n",
            "67/67 [==============================] - ETA: 0s - loss: 1.6086 - categorical_accuracy: 0.2046\n",
            "Epoch 00004: saving model to model_init_2021-11-1805_58_48.010909/model-00004-1.60859-0.20457-1.59361-0.23000.h5\n",
            "67/67 [==============================] - 513s 8s/step - loss: 1.6086 - categorical_accuracy: 0.2046 - val_loss: 1.5936 - val_categorical_accuracy: 0.2300 - lr: 0.0010\n",
            "Epoch 5/20\n",
            "67/67 [==============================] - ETA: 0s - loss: 1.6029 - categorical_accuracy: 0.2230\n",
            "Epoch 00005: saving model to model_init_2021-11-1805_58_48.010909/model-00005-1.60287-0.22300-1.59354-0.22000.h5\n",
            "67/67 [==============================] - 509s 8s/step - loss: 1.6029 - categorical_accuracy: 0.2230 - val_loss: 1.5935 - val_categorical_accuracy: 0.2200 - lr: 0.0010\n",
            "Epoch 6/20\n",
            "67/67 [==============================] - ETA: 0s - loss: 1.6008 - categorical_accuracy: 0.2256\n",
            "Epoch 00006: saving model to model_init_2021-11-1805_58_48.010909/model-00006-1.60079-0.22564-1.59219-0.22500.h5\n",
            "67/67 [==============================] - 507s 8s/step - loss: 1.6008 - categorical_accuracy: 0.2256 - val_loss: 1.5922 - val_categorical_accuracy: 0.2250 - lr: 0.0010\n",
            "Epoch 7/20\n",
            "67/67 [==============================] - ETA: 0s - loss: 1.6033 - categorical_accuracy: 0.2195\n",
            "Epoch 00007: saving model to model_init_2021-11-1805_58_48.010909/model-00007-1.60329-0.21949-1.58805-0.22500.h5\n",
            "67/67 [==============================] - 516s 8s/step - loss: 1.6033 - categorical_accuracy: 0.2195 - val_loss: 1.5880 - val_categorical_accuracy: 0.2250 - lr: 0.0010\n",
            "Epoch 8/20\n",
            "67/67 [==============================] - ETA: 0s - loss: 1.6002 - categorical_accuracy: 0.2081\n",
            "Epoch 00008: saving model to model_init_2021-11-1805_58_48.010909/model-00008-1.60018-0.20808-1.59024-0.23000.h5\n",
            "67/67 [==============================] - 513s 8s/step - loss: 1.6002 - categorical_accuracy: 0.2081 - val_loss: 1.5902 - val_categorical_accuracy: 0.2300 - lr: 0.0010\n",
            "Epoch 9/20\n",
            "67/67 [==============================] - ETA: 0s - loss: 1.5990 - categorical_accuracy: 0.2265\n",
            "Epoch 00009: saving model to model_init_2021-11-1805_58_48.010909/model-00009-1.59903-0.22651-1.58511-0.23000.h5\n",
            "67/67 [==============================] - 514s 8s/step - loss: 1.5990 - categorical_accuracy: 0.2265 - val_loss: 1.5851 - val_categorical_accuracy: 0.2300 - lr: 0.0010\n",
            "Epoch 10/20\n",
            "67/67 [==============================] - ETA: 0s - loss: 1.5928 - categorical_accuracy: 0.2353\n",
            "Epoch 00010: saving model to model_init_2021-11-1805_58_48.010909/model-00010-1.59279-0.23529-1.58400-0.24500.h5\n",
            "67/67 [==============================] - 518s 8s/step - loss: 1.5928 - categorical_accuracy: 0.2353 - val_loss: 1.5840 - val_categorical_accuracy: 0.2450 - lr: 0.0010\n",
            "Epoch 11/20\n",
            "67/67 [==============================] - ETA: 0s - loss: 1.5813 - categorical_accuracy: 0.2599\n",
            "Epoch 00011: saving model to model_init_2021-11-1805_58_48.010909/model-00011-1.58135-0.25988-1.58519-0.20500.h5\n",
            "67/67 [==============================] - 507s 8s/step - loss: 1.5813 - categorical_accuracy: 0.2599 - val_loss: 1.5852 - val_categorical_accuracy: 0.2050 - lr: 0.0010\n",
            "Epoch 12/20\n",
            "67/67 [==============================] - ETA: 0s - loss: 1.5909 - categorical_accuracy: 0.2195\n",
            "Epoch 00012: saving model to model_init_2021-11-1805_58_48.010909/model-00012-1.59085-0.21949-1.57820-0.23500.h5\n",
            "67/67 [==============================] - 512s 8s/step - loss: 1.5909 - categorical_accuracy: 0.2195 - val_loss: 1.5782 - val_categorical_accuracy: 0.2350 - lr: 0.0010\n",
            "Epoch 13/20\n",
            "67/67 [==============================] - ETA: 0s - loss: 1.5816 - categorical_accuracy: 0.2397\n",
            "Epoch 00013: saving model to model_init_2021-11-1805_58_48.010909/model-00013-1.58164-0.23968-1.57628-0.24000.h5\n",
            "67/67 [==============================] - 505s 8s/step - loss: 1.5816 - categorical_accuracy: 0.2397 - val_loss: 1.5763 - val_categorical_accuracy: 0.2400 - lr: 0.0010\n",
            "Epoch 14/20\n",
            "67/67 [==============================] - ETA: 0s - loss: 1.5801 - categorical_accuracy: 0.2485\n",
            "Epoch 00014: saving model to model_init_2021-11-1805_58_48.010909/model-00014-1.58011-0.24846-1.57533-0.27000.h5\n",
            "67/67 [==============================] - 514s 8s/step - loss: 1.5801 - categorical_accuracy: 0.2485 - val_loss: 1.5753 - val_categorical_accuracy: 0.2700 - lr: 0.0010\n",
            "Epoch 15/20\n",
            "67/67 [==============================] - ETA: 0s - loss: 1.5828 - categorical_accuracy: 0.2414\n",
            "Epoch 00015: saving model to model_init_2021-11-1805_58_48.010909/model-00015-1.58276-0.24144-1.57710-0.25500.h5\n",
            "67/67 [==============================] - 513s 8s/step - loss: 1.5828 - categorical_accuracy: 0.2414 - val_loss: 1.5771 - val_categorical_accuracy: 0.2550 - lr: 0.0010\n",
            "Epoch 16/20\n",
            "67/67 [==============================] - ETA: 0s - loss: 1.5785 - categorical_accuracy: 0.2502\n",
            "Epoch 00016: saving model to model_init_2021-11-1805_58_48.010909/model-00016-1.57851-0.25022-1.56807-0.30500.h5\n",
            "67/67 [==============================] - 496s 8s/step - loss: 1.5785 - categorical_accuracy: 0.2502 - val_loss: 1.5681 - val_categorical_accuracy: 0.3050 - lr: 0.0010\n",
            "Epoch 17/20\n",
            "67/67 [==============================] - ETA: 0s - loss: 1.5691 - categorical_accuracy: 0.2660\n",
            "Epoch 00017: saving model to model_init_2021-11-1805_58_48.010909/model-00017-1.56906-0.26602-1.57293-0.26000.h5\n",
            "67/67 [==============================] - 509s 8s/step - loss: 1.5691 - categorical_accuracy: 0.2660 - val_loss: 1.5729 - val_categorical_accuracy: 0.2600 - lr: 0.0010\n",
            "Epoch 18/20\n",
            "67/67 [==============================] - ETA: 0s - loss: 1.5704 - categorical_accuracy: 0.2643\n",
            "Epoch 00018: saving model to model_init_2021-11-1805_58_48.010909/model-00018-1.57036-0.26427-1.56409-0.32500.h5\n",
            "67/67 [==============================] - 501s 8s/step - loss: 1.5704 - categorical_accuracy: 0.2643 - val_loss: 1.5641 - val_categorical_accuracy: 0.3250 - lr: 0.0010\n",
            "Epoch 19/20\n",
            "67/67 [==============================] - ETA: 0s - loss: 1.5599 - categorical_accuracy: 0.2906\n",
            "Epoch 00019: saving model to model_init_2021-11-1805_58_48.010909/model-00019-1.55991-0.29061-1.56396-0.32000.h5\n",
            "67/67 [==============================] - 501s 8s/step - loss: 1.5599 - categorical_accuracy: 0.2906 - val_loss: 1.5640 - val_categorical_accuracy: 0.3200 - lr: 0.0010\n",
            "Epoch 20/20\n",
            "67/67 [==============================] - ETA: 0s - loss: 1.5668 - categorical_accuracy: 0.2660\n",
            "Epoch 00020: saving model to model_init_2021-11-1805_58_48.010909/model-00020-1.56684-0.26602-1.56168-0.31500.h5\n",
            "67/67 [==============================] - 504s 8s/step - loss: 1.5668 - categorical_accuracy: 0.2660 - val_loss: 1.5617 - val_categorical_accuracy: 0.3150 - lr: 0.0010\n"
          ]
        },
        {
          "output_type": "execute_result",
          "data": {
            "text/plain": [
              "<keras.callbacks.History at 0x7f76202b7dd0>"
            ]
          },
          "metadata": {},
          "execution_count": 21
        }
      ]
    },
    {
      "cell_type": "markdown",
      "metadata": {
        "id": "wI7jjIXv7dOP"
      },
      "source": [
        "### Model C Experiment [6]"
      ]
    },
    {
      "cell_type": "code",
      "metadata": {
        "id": "pWu9DvS47dOP",
        "colab": {
          "base_uri": "https://localhost:8080/"
        },
        "outputId": "7496ab6d-0829-4fe4-9c2a-6911fa52732c"
      },
      "source": [
        "input_shape=(x,y,z,channel)\n",
        "\n",
        "nb_filters = [8,16,32,64]\n",
        "nb_dense = [1000, 500, 5]\n",
        "# Define model\n",
        "model_c = Sequential()\n",
        "\n",
        "model_c.add(Conv3D(nb_filters[0], \n",
        "                 kernel_size=(3,3,3), \n",
        "                 input_shape=input_shape,\n",
        "                 padding='same'))\n",
        "model_c.add(BatchNormalization())\n",
        "model_c.add(Activation('relu'))\n",
        "\n",
        "model_c.add(MaxPooling3D(pool_size=(2,2,2)))\n",
        "\n",
        "model_c.add(Conv3D(nb_filters[1], \n",
        "                 kernel_size=(3,3,3), \n",
        "                 padding='same'))\n",
        "model_c.add(BatchNormalization())\n",
        "model_c.add(Activation('relu'))\n",
        "\n",
        "model_c.add(MaxPooling3D(pool_size=(2,2,2)))\n",
        "\n",
        "model_c.add(Conv3D(nb_filters[2], \n",
        "                 kernel_size=(1,3,3), \n",
        "                 padding='same'))\n",
        "model_c.add(BatchNormalization())\n",
        "model_c.add(Activation('relu'))\n",
        "\n",
        "model_c.add(MaxPooling3D(pool_size=(2,2,2)))\n",
        "\n",
        "model_c.add(Conv3D(nb_filters[3], \n",
        "                 kernel_size=(1,3,3), \n",
        "                 padding='same'))\n",
        "model_c.add(BatchNormalization())\n",
        "model_c.add(Activation('relu'))\n",
        "\n",
        "model_c.add(MaxPooling3D(pool_size=(2,2,2)))\n",
        "\n",
        "#Flatten Layers\n",
        "model_c.add(Flatten())\n",
        "\n",
        "model_c.add(Dense(nb_dense[0], activation='relu'))\n",
        "model_c.add(Dropout(0.5))\n",
        "\n",
        "model_c.add(Dense(nb_dense[1], activation='relu'))\n",
        "model_c.add(Dropout(0.5))\n",
        "\n",
        "#softmax layer\n",
        "model_c.add(Dense(nb_dense[2], activation='softmax'))\n",
        "model_c.compile(optimizer='adadelta', loss='categorical_crossentropy', metrics=['categorical_accuracy'])\n",
        "model_c.summary()"
      ],
      "execution_count": 18,
      "outputs": [
        {
          "output_type": "stream",
          "name": "stdout",
          "text": [
            "Model: \"sequential_2\"\n",
            "_________________________________________________________________\n",
            " Layer (type)                Output Shape              Param #   \n",
            "=================================================================\n",
            " conv3d_4 (Conv3D)           (None, 30, 120, 120, 8)   656       \n",
            "                                                                 \n",
            " batch_normalization_4 (Batc  (None, 30, 120, 120, 8)  32        \n",
            " hNormalization)                                                 \n",
            "                                                                 \n",
            " activation_4 (Activation)   (None, 30, 120, 120, 8)   0         \n",
            "                                                                 \n",
            " max_pooling3d_4 (MaxPooling  (None, 15, 60, 60, 8)    0         \n",
            " 3D)                                                             \n",
            "                                                                 \n",
            " conv3d_5 (Conv3D)           (None, 15, 60, 60, 16)    3472      \n",
            "                                                                 \n",
            " batch_normalization_5 (Batc  (None, 15, 60, 60, 16)   64        \n",
            " hNormalization)                                                 \n",
            "                                                                 \n",
            " activation_5 (Activation)   (None, 15, 60, 60, 16)    0         \n",
            "                                                                 \n",
            " max_pooling3d_5 (MaxPooling  (None, 7, 30, 30, 16)    0         \n",
            " 3D)                                                             \n",
            "                                                                 \n",
            " conv3d_6 (Conv3D)           (None, 7, 30, 30, 32)     4640      \n",
            "                                                                 \n",
            " batch_normalization_6 (Batc  (None, 7, 30, 30, 32)    128       \n",
            " hNormalization)                                                 \n",
            "                                                                 \n",
            " activation_6 (Activation)   (None, 7, 30, 30, 32)     0         \n",
            "                                                                 \n",
            " max_pooling3d_6 (MaxPooling  (None, 3, 15, 15, 32)    0         \n",
            " 3D)                                                             \n",
            "                                                                 \n",
            " conv3d_7 (Conv3D)           (None, 3, 15, 15, 64)     18496     \n",
            "                                                                 \n",
            " batch_normalization_7 (Batc  (None, 3, 15, 15, 64)    256       \n",
            " hNormalization)                                                 \n",
            "                                                                 \n",
            " activation_7 (Activation)   (None, 3, 15, 15, 64)     0         \n",
            "                                                                 \n",
            " max_pooling3d_7 (MaxPooling  (None, 1, 7, 7, 64)      0         \n",
            " 3D)                                                             \n",
            "                                                                 \n",
            " flatten_1 (Flatten)         (None, 3136)              0         \n",
            "                                                                 \n",
            " dense_3 (Dense)             (None, 1000)              3137000   \n",
            "                                                                 \n",
            " dropout_2 (Dropout)         (None, 1000)              0         \n",
            "                                                                 \n",
            " dense_4 (Dense)             (None, 500)               500500    \n",
            "                                                                 \n",
            " dropout_3 (Dropout)         (None, 500)               0         \n",
            "                                                                 \n",
            " dense_5 (Dense)             (None, 5)                 2505      \n",
            "                                                                 \n",
            "=================================================================\n",
            "Total params: 3,667,749\n",
            "Trainable params: 3,667,509\n",
            "Non-trainable params: 240\n",
            "_________________________________________________________________\n"
          ]
        }
      ]
    },
    {
      "cell_type": "code",
      "metadata": {
        "id": "PWrigoud7dOR",
        "colab": {
          "base_uri": "https://localhost:8080/"
        },
        "outputId": "bd1d40a8-c8d8-44e5-8a72-ff7c85196c62"
      },
      "source": [
        "train_generator = generator_ex(train_path, train_doc, batch_size)\n",
        "val_generator = generator_ex(val_path, val_doc, batch_size)\n",
        "num_epochs = 10\n",
        "model_c.fit_generator(train_generator, steps_per_epoch=steps_per_epoch, epochs=num_epochs, verbose=1, \n",
        "                    callbacks=callbacks_list, validation_data=val_generator, \n",
        "                    validation_steps=validation_steps, class_weight=None, workers=1, initial_epoch=0)"
      ],
      "execution_count": null,
      "outputs": [
        {
          "output_type": "stream",
          "name": "stdout",
          "text": [
            "Source path =  Project_data/train ; batch size = 10\n",
            "Epoch 1/10\n",
            "65/67 [============================>.] - ETA: 7s - loss: 2.5831 - categorical_accuracy: 0.1815 Batch:  67 Index: 10\n",
            "67/67 [==============================] - ETA: 0s - loss: 2.5998 - categorical_accuracy: 0.1810Source path =  Project_data/val ; batch size = 10\n",
            "\n",
            "Epoch 00001: saving model to model_init_2021-11-1805_58_48.010909/model-00001-2.59980-0.18100-1.61906-0.21000.h5\n",
            "67/67 [==============================] - 278s 4s/step - loss: 2.5998 - categorical_accuracy: 0.1810 - val_loss: 1.6191 - val_categorical_accuracy: 0.2100 - lr: 0.0010\n",
            "Epoch 2/10\n",
            "67/67 [==============================] - ETA: 0s - loss: 2.6152 - categorical_accuracy: 0.1940\n",
            "Epoch 00002: saving model to model_init_2021-11-1805_58_48.010909/model-00002-2.61522-0.19403-1.63286-0.22000.h5\n",
            "67/67 [==============================] - 113s 2s/step - loss: 2.6152 - categorical_accuracy: 0.1940 - val_loss: 1.6329 - val_categorical_accuracy: 0.2200 - lr: 0.0010\n",
            "Epoch 3/10\n",
            "67/67 [==============================] - ETA: 0s - loss: 2.4683 - categorical_accuracy: 0.2338\n",
            "Epoch 00003: saving model to model_init_2021-11-1805_58_48.010909/model-00003-2.46828-0.23383-1.60273-0.32000.h5\n",
            "67/67 [==============================] - 124s 2s/step - loss: 2.4683 - categorical_accuracy: 0.2338 - val_loss: 1.6027 - val_categorical_accuracy: 0.3200 - lr: 0.0010\n",
            "Epoch 4/10\n",
            "67/67 [==============================] - ETA: 0s - loss: 2.6831 - categorical_accuracy: 0.1542\n",
            "Epoch 00004: saving model to model_init_2021-11-1805_58_48.010909/model-00004-2.68314-0.15423-1.69500-0.22000.h5\n",
            "67/67 [==============================] - 116s 2s/step - loss: 2.6831 - categorical_accuracy: 0.1542 - val_loss: 1.6950 - val_categorical_accuracy: 0.2200 - lr: 0.0010\n",
            "Epoch 5/10\n",
            "67/67 [==============================] - ETA: 0s - loss: 2.6324 - categorical_accuracy: 0.1642\n",
            "Epoch 00005: saving model to model_init_2021-11-1805_58_48.010909/model-00005-2.63240-0.16418-1.74115-0.18000.h5\n",
            "\n",
            "Epoch 00005: ReduceLROnPlateau reducing learning rate to 0.0005000000237487257.\n",
            "67/67 [==============================] - 118s 2s/step - loss: 2.6324 - categorical_accuracy: 0.1642 - val_loss: 1.7411 - val_categorical_accuracy: 0.1800 - lr: 0.0010\n",
            "Epoch 6/10\n",
            "67/67 [==============================] - ETA: 0s - loss: 2.4046 - categorical_accuracy: 0.2289\n",
            "Epoch 00006: saving model to model_init_2021-11-1805_58_48.010909/model-00006-2.40463-0.22886-1.74706-0.22000.h5\n",
            "67/67 [==============================] - 111s 2s/step - loss: 2.4046 - categorical_accuracy: 0.2289 - val_loss: 1.7471 - val_categorical_accuracy: 0.2200 - lr: 5.0000e-04\n",
            "Epoch 7/10\n",
            "67/67 [==============================] - ETA: 0s - loss: 2.5355 - categorical_accuracy: 0.1940\n",
            "Epoch 00007: saving model to model_init_2021-11-1805_58_48.010909/model-00007-2.53545-0.19403-1.76649-0.23000.h5\n",
            "\n",
            "Epoch 00007: ReduceLROnPlateau reducing learning rate to 0.0002500000118743628.\n",
            "67/67 [==============================] - 121s 2s/step - loss: 2.5355 - categorical_accuracy: 0.1940 - val_loss: 1.7665 - val_categorical_accuracy: 0.2300 - lr: 5.0000e-04\n",
            "Epoch 8/10\n",
            "67/67 [==============================] - ETA: 0s - loss: 2.5988 - categorical_accuracy: 0.1642\n",
            "Epoch 00008: saving model to model_init_2021-11-1805_58_48.010909/model-00008-2.59878-0.16418-1.66754-0.27000.h5\n",
            "67/67 [==============================] - 124s 2s/step - loss: 2.5988 - categorical_accuracy: 0.1642 - val_loss: 1.6675 - val_categorical_accuracy: 0.2700 - lr: 2.5000e-04\n",
            "Epoch 9/10\n",
            "67/67 [==============================] - ETA: 0s - loss: 2.3815 - categorical_accuracy: 0.2289\n",
            "Epoch 00009: saving model to model_init_2021-11-1805_58_48.010909/model-00009-2.38154-0.22886-1.72518-0.24000.h5\n",
            "\n",
            "Epoch 00009: ReduceLROnPlateau reducing learning rate to 0.0001250000059371814.\n",
            "67/67 [==============================] - 117s 2s/step - loss: 2.3815 - categorical_accuracy: 0.2289 - val_loss: 1.7252 - val_categorical_accuracy: 0.2400 - lr: 2.5000e-04\n",
            "Epoch 10/10\n",
            "67/67 [==============================] - ETA: 0s - loss: 2.3290 - categorical_accuracy: 0.2239\n",
            "Epoch 00010: saving model to model_init_2021-11-1805_58_48.010909/model-00010-2.32899-0.22388-1.73333-0.24000.h5\n",
            "67/67 [==============================] - 116s 2s/step - loss: 2.3290 - categorical_accuracy: 0.2239 - val_loss: 1.7333 - val_categorical_accuracy: 0.2400 - lr: 1.2500e-04\n"
          ]
        },
        {
          "output_type": "execute_result",
          "data": {
            "text/plain": [
              "<keras.callbacks.History at 0x7f7535e4bfd0>"
            ]
          },
          "metadata": {},
          "execution_count": 24
        }
      ]
    },
    {
      "cell_type": "markdown",
      "metadata": {
        "id": "gA50fq2p7dOW"
      },
      "source": [
        "### Model D Experiment [7]"
      ]
    },
    {
      "cell_type": "code",
      "metadata": {
        "id": "nK2fpvqV7dOW",
        "colab": {
          "base_uri": "https://localhost:8080/"
        },
        "outputId": "a9e625dc-a5f7-485d-a402-dc18556f8ab5"
      },
      "source": [
        "x = 30 # number of frames\n",
        "y = 120 # image width\n",
        "z = 120 # image height \n",
        "\n",
        "classes = 5\n",
        "channel = 1\n",
        "nb_dense = [1000, 500, 5]\n",
        "\n",
        "input_shape=(x,y,z,channel)\n",
        "\n",
        "# Define model\n",
        "model_d = Sequential()\n",
        "\n",
        "model_d.add(Conv3D(nb_filters[0], \n",
        "                 kernel_size=(3,3,3), \n",
        "                 input_shape=input_shape,\n",
        "                 padding='same'))\n",
        "model_d.add(BatchNormalization())\n",
        "model_d.add(Activation('relu'))\n",
        "\n",
        "model_d.add(MaxPooling3D(pool_size=(2,2,2)))\n",
        "\n",
        "model_d.add(Conv3D(nb_filters[1], \n",
        "                 kernel_size=(3,3,3), \n",
        "                 padding='same'))\n",
        "model_d.add(BatchNormalization())\n",
        "model_d.add(Activation('relu'))\n",
        "\n",
        "model_d.add(MaxPooling3D(pool_size=(2,2,2)))\n",
        "\n",
        "model_d.add(Conv3D(nb_filters[2], \n",
        "                 kernel_size=(1,3,3), \n",
        "                 padding='same'))\n",
        "model_d.add(BatchNormalization())\n",
        "model_d.add(Activation('relu'))\n",
        "\n",
        "model_d.add(MaxPooling3D(pool_size=(2,2,2)))\n",
        "\n",
        "model_d.add(Conv3D(nb_filters[3], \n",
        "                 kernel_size=(1,3,3), \n",
        "                 padding='same'))\n",
        "model_d.add(BatchNormalization())\n",
        "model_d.add(Activation('relu'))\n",
        "\n",
        "model_d.add(MaxPooling3D(pool_size=(2,2,2)))\n",
        "\n",
        "#Flatten Layers\n",
        "model_d.add(Flatten())\n",
        "\n",
        "model_d.add(Dense(nb_dense[0], activation='relu'))\n",
        "model_d.add(Dropout(0.5))\n",
        "\n",
        "model_d.add(Dense(nb_dense[1], activation='relu'))\n",
        "model_d.add(Dropout(0.5))\n",
        "\n",
        "#softmax layer\n",
        "model_d.add(Dense(nb_dense[2], activation='softmax'))\n",
        "model_d.compile(optimizer='adadelta', loss='categorical_crossentropy', metrics=['categorical_accuracy'])\n",
        "model_d.summary()"
      ],
      "execution_count": 19,
      "outputs": [
        {
          "output_type": "stream",
          "name": "stdout",
          "text": [
            "Model: \"sequential_3\"\n",
            "_________________________________________________________________\n",
            " Layer (type)                Output Shape              Param #   \n",
            "=================================================================\n",
            " conv3d_8 (Conv3D)           (None, 30, 120, 120, 8)   224       \n",
            "                                                                 \n",
            " batch_normalization_8 (Batc  (None, 30, 120, 120, 8)  32        \n",
            " hNormalization)                                                 \n",
            "                                                                 \n",
            " activation_8 (Activation)   (None, 30, 120, 120, 8)   0         \n",
            "                                                                 \n",
            " max_pooling3d_8 (MaxPooling  (None, 15, 60, 60, 8)    0         \n",
            " 3D)                                                             \n",
            "                                                                 \n",
            " conv3d_9 (Conv3D)           (None, 15, 60, 60, 16)    3472      \n",
            "                                                                 \n",
            " batch_normalization_9 (Batc  (None, 15, 60, 60, 16)   64        \n",
            " hNormalization)                                                 \n",
            "                                                                 \n",
            " activation_9 (Activation)   (None, 15, 60, 60, 16)    0         \n",
            "                                                                 \n",
            " max_pooling3d_9 (MaxPooling  (None, 7, 30, 30, 16)    0         \n",
            " 3D)                                                             \n",
            "                                                                 \n",
            " conv3d_10 (Conv3D)          (None, 7, 30, 30, 32)     4640      \n",
            "                                                                 \n",
            " batch_normalization_10 (Bat  (None, 7, 30, 30, 32)    128       \n",
            " chNormalization)                                                \n",
            "                                                                 \n",
            " activation_10 (Activation)  (None, 7, 30, 30, 32)     0         \n",
            "                                                                 \n",
            " max_pooling3d_10 (MaxPoolin  (None, 3, 15, 15, 32)    0         \n",
            " g3D)                                                            \n",
            "                                                                 \n",
            " conv3d_11 (Conv3D)          (None, 3, 15, 15, 64)     18496     \n",
            "                                                                 \n",
            " batch_normalization_11 (Bat  (None, 3, 15, 15, 64)    256       \n",
            " chNormalization)                                                \n",
            "                                                                 \n",
            " activation_11 (Activation)  (None, 3, 15, 15, 64)     0         \n",
            "                                                                 \n",
            " max_pooling3d_11 (MaxPoolin  (None, 1, 7, 7, 64)      0         \n",
            " g3D)                                                            \n",
            "                                                                 \n",
            " flatten_2 (Flatten)         (None, 3136)              0         \n",
            "                                                                 \n",
            " dense_6 (Dense)             (None, 1000)              3137000   \n",
            "                                                                 \n",
            " dropout_4 (Dropout)         (None, 1000)              0         \n",
            "                                                                 \n",
            " dense_7 (Dense)             (None, 500)               500500    \n",
            "                                                                 \n",
            " dropout_5 (Dropout)         (None, 500)               0         \n",
            "                                                                 \n",
            " dense_8 (Dense)             (None, 5)                 2505      \n",
            "                                                                 \n",
            "=================================================================\n",
            "Total params: 3,667,317\n",
            "Trainable params: 3,667,077\n",
            "Non-trainable params: 240\n",
            "_________________________________________________________________\n"
          ]
        }
      ]
    },
    {
      "cell_type": "code",
      "metadata": {
        "id": "MppkcMcE7dOX",
        "colab": {
          "base_uri": "https://localhost:8080/"
        },
        "outputId": "9b9ef361-191f-4607-8dad-18307db561cf"
      },
      "source": [
        "batch_size = 10\n",
        "train_generator = generator_ex(train_path, train_doc, batch_size)\n",
        "val_generator = generator_ex(val_path, val_doc, batch_size)\n",
        "num_epochs = 30\n",
        "model_d.fit_generator(train_generator, steps_per_epoch=steps_per_epoch, epochs=num_epochs, verbose=1, \n",
        "                    callbacks=callbacks_list, validation_data=val_generator, \n",
        "                    validation_steps=validation_steps, class_weight=None, workers=1, initial_epoch=0)"
      ],
      "execution_count": null,
      "outputs": [
        {
          "output_type": "stream",
          "name": "stdout",
          "text": [
            "Source path =  Project_data/train ; batch size = 10\n",
            "Epoch 1/30\n",
            "65/67 [============================>.] - ETA: 6s - loss: 3.0737 - categorical_accuracy: 0.2092Batch:  67 Index: 10\n",
            "67/67 [==============================] - ETA: 0s - loss: 3.0607 - categorical_accuracy: 0.2097Source path =  Project_data/val ; batch size = 10\n",
            "\n",
            "Epoch 00001: saving model to model_init_2021-11-1805_58_48.010909/model-00001-3.06074-0.20965-1.62144-0.19000.h5\n",
            "67/67 [==============================] - 257s 4s/step - loss: 3.0607 - categorical_accuracy: 0.2097 - val_loss: 1.6214 - val_categorical_accuracy: 0.1900 - lr: 0.0010\n",
            "Epoch 2/30\n",
            "67/67 [==============================] - ETA: 0s - loss: 2.8839 - categorical_accuracy: 0.2289\n",
            "Epoch 00002: saving model to model_init_2021-11-1805_58_48.010909/model-00002-2.88393-0.22886-1.63507-0.20000.h5\n",
            "67/67 [==============================] - 108s 2s/step - loss: 2.8839 - categorical_accuracy: 0.2289 - val_loss: 1.6351 - val_categorical_accuracy: 0.2000 - lr: 0.0010\n",
            "Epoch 3/30\n",
            "67/67 [==============================] - ETA: 0s - loss: 2.8090 - categorical_accuracy: 0.2139\n",
            "Epoch 00003: saving model to model_init_2021-11-1805_58_48.010909/model-00003-2.80897-0.21393-1.64042-0.22000.h5\n",
            "\n",
            "Epoch 00003: ReduceLROnPlateau reducing learning rate to 0.0005000000237487257.\n",
            "67/67 [==============================] - 112s 2s/step - loss: 2.8090 - categorical_accuracy: 0.2139 - val_loss: 1.6404 - val_categorical_accuracy: 0.2200 - lr: 0.0010\n",
            "Epoch 4/30\n",
            "67/67 [==============================] - ETA: 0s - loss: 3.0488 - categorical_accuracy: 0.1592\n",
            "Epoch 00004: saving model to model_init_2021-11-1805_58_48.010909/model-00004-3.04885-0.15920-1.68320-0.23000.h5\n",
            "67/67 [==============================] - 111s 2s/step - loss: 3.0488 - categorical_accuracy: 0.1592 - val_loss: 1.6832 - val_categorical_accuracy: 0.2300 - lr: 5.0000e-04\n",
            "Epoch 5/30\n",
            "67/67 [==============================] - ETA: 0s - loss: 2.7591 - categorical_accuracy: 0.2239\n",
            "Epoch 00005: saving model to model_init_2021-11-1805_58_48.010909/model-00005-2.75907-0.22388-1.66080-0.27000.h5\n",
            "\n",
            "Epoch 00005: ReduceLROnPlateau reducing learning rate to 0.0002500000118743628.\n",
            "67/67 [==============================] - 109s 2s/step - loss: 2.7591 - categorical_accuracy: 0.2239 - val_loss: 1.6608 - val_categorical_accuracy: 0.2700 - lr: 5.0000e-04\n",
            "Epoch 6/30\n",
            "67/67 [==============================] - ETA: 0s - loss: 2.8659 - categorical_accuracy: 0.2040\n",
            "Epoch 00006: saving model to model_init_2021-11-1805_58_48.010909/model-00006-2.86592-0.20398-1.64874-0.24000.h5\n",
            "67/67 [==============================] - 108s 2s/step - loss: 2.8659 - categorical_accuracy: 0.2040 - val_loss: 1.6487 - val_categorical_accuracy: 0.2400 - lr: 2.5000e-04\n",
            "Epoch 7/30\n",
            "67/67 [==============================] - ETA: 0s - loss: 2.7433 - categorical_accuracy: 0.2388\n",
            "Epoch 00007: saving model to model_init_2021-11-1805_58_48.010909/model-00007-2.74331-0.23881-1.61690-0.22000.h5\n",
            "67/67 [==============================] - 114s 2s/step - loss: 2.7433 - categorical_accuracy: 0.2388 - val_loss: 1.6169 - val_categorical_accuracy: 0.2200 - lr: 2.5000e-04\n",
            "Epoch 8/30\n",
            "67/67 [==============================] - ETA: 0s - loss: 2.9630 - categorical_accuracy: 0.1791\n",
            "Epoch 00008: saving model to model_init_2021-11-1805_58_48.010909/model-00008-2.96297-0.17910-1.60065-0.25000.h5\n",
            "67/67 [==============================] - 102s 2s/step - loss: 2.9630 - categorical_accuracy: 0.1791 - val_loss: 1.6006 - val_categorical_accuracy: 0.2500 - lr: 2.5000e-04\n",
            "Epoch 9/30\n",
            "67/67 [==============================] - ETA: 0s - loss: 2.5466 - categorical_accuracy: 0.2239\n",
            "Epoch 00009: saving model to model_init_2021-11-1805_58_48.010909/model-00009-2.54664-0.22388-1.61122-0.27000.h5\n",
            "67/67 [==============================] - 111s 2s/step - loss: 2.5466 - categorical_accuracy: 0.2239 - val_loss: 1.6112 - val_categorical_accuracy: 0.2700 - lr: 2.5000e-04\n",
            "Epoch 10/30\n",
            "67/67 [==============================] - ETA: 0s - loss: 2.9192 - categorical_accuracy: 0.2090\n",
            "Epoch 00010: saving model to model_init_2021-11-1805_58_48.010909/model-00010-2.91925-0.20896-1.65148-0.22000.h5\n",
            "\n",
            "Epoch 00010: ReduceLROnPlateau reducing learning rate to 0.0001250000059371814.\n",
            "67/67 [==============================] - 112s 2s/step - loss: 2.9192 - categorical_accuracy: 0.2090 - val_loss: 1.6515 - val_categorical_accuracy: 0.2200 - lr: 2.5000e-04\n",
            "Epoch 11/30\n",
            "67/67 [==============================] - ETA: 0s - loss: 2.8712 - categorical_accuracy: 0.1990\n",
            "Epoch 00011: saving model to model_init_2021-11-1805_58_48.010909/model-00011-2.87124-0.19900-1.61481-0.24000.h5\n",
            "67/67 [==============================] - 107s 2s/step - loss: 2.8712 - categorical_accuracy: 0.1990 - val_loss: 1.6148 - val_categorical_accuracy: 0.2400 - lr: 1.2500e-04\n",
            "Epoch 12/30\n",
            "67/67 [==============================] - ETA: 0s - loss: 2.7371 - categorical_accuracy: 0.2139\n",
            "Epoch 00012: saving model to model_init_2021-11-1805_58_48.010909/model-00012-2.73715-0.21393-1.63300-0.24000.h5\n",
            "\n",
            "Epoch 00012: ReduceLROnPlateau reducing learning rate to 6.25000029685907e-05.\n",
            "67/67 [==============================] - 110s 2s/step - loss: 2.7371 - categorical_accuracy: 0.2139 - val_loss: 1.6330 - val_categorical_accuracy: 0.2400 - lr: 1.2500e-04\n",
            "Epoch 13/30\n",
            "67/67 [==============================] - ETA: 0s - loss: 2.7931 - categorical_accuracy: 0.2090\n",
            "Epoch 00013: saving model to model_init_2021-11-1805_58_48.010909/model-00013-2.79311-0.20896-1.57024-0.28000.h5\n",
            "67/67 [==============================] - 114s 2s/step - loss: 2.7931 - categorical_accuracy: 0.2090 - val_loss: 1.5702 - val_categorical_accuracy: 0.2800 - lr: 6.2500e-05\n",
            "Epoch 14/30\n",
            "67/67 [==============================] - ETA: 0s - loss: 2.6154 - categorical_accuracy: 0.1891\n",
            "Epoch 00014: saving model to model_init_2021-11-1805_58_48.010909/model-00014-2.61543-0.18905-1.61180-0.18000.h5\n",
            "67/67 [==============================] - 109s 2s/step - loss: 2.6154 - categorical_accuracy: 0.1891 - val_loss: 1.6118 - val_categorical_accuracy: 0.1800 - lr: 6.2500e-05\n",
            "Epoch 15/30\n",
            "67/67 [==============================] - ETA: 0s - loss: 2.4893 - categorical_accuracy: 0.2239\n",
            "Epoch 00015: saving model to model_init_2021-11-1805_58_48.010909/model-00015-2.48930-0.22388-1.57171-0.26000.h5\n",
            "\n",
            "Epoch 00015: ReduceLROnPlateau reducing learning rate to 3.125000148429535e-05.\n",
            "67/67 [==============================] - 110s 2s/step - loss: 2.4893 - categorical_accuracy: 0.2239 - val_loss: 1.5717 - val_categorical_accuracy: 0.2600 - lr: 6.2500e-05\n",
            "Epoch 16/30\n",
            "67/67 [==============================] - ETA: 0s - loss: 2.6139 - categorical_accuracy: 0.2637\n",
            "Epoch 00016: saving model to model_init_2021-11-1805_58_48.010909/model-00016-2.61390-0.26368-1.65216-0.18000.h5\n",
            "67/67 [==============================] - 110s 2s/step - loss: 2.6139 - categorical_accuracy: 0.2637 - val_loss: 1.6522 - val_categorical_accuracy: 0.1800 - lr: 3.1250e-05\n",
            "Epoch 17/30\n",
            "67/67 [==============================] - ETA: 0s - loss: 2.7193 - categorical_accuracy: 0.2338\n",
            "Epoch 00017: saving model to model_init_2021-11-1805_58_48.010909/model-00017-2.71931-0.23383-1.64429-0.21000.h5\n",
            "\n",
            "Epoch 00017: ReduceLROnPlateau reducing learning rate to 1.5625000742147677e-05.\n",
            "67/67 [==============================] - 110s 2s/step - loss: 2.7193 - categorical_accuracy: 0.2338 - val_loss: 1.6443 - val_categorical_accuracy: 0.2100 - lr: 3.1250e-05\n",
            "Epoch 18/30\n",
            "67/67 [==============================] - ETA: 0s - loss: 2.7164 - categorical_accuracy: 0.1443\n",
            "Epoch 00018: saving model to model_init_2021-11-1805_58_48.010909/model-00018-2.71642-0.14428-1.66732-0.20000.h5\n",
            "67/67 [==============================] - 110s 2s/step - loss: 2.7164 - categorical_accuracy: 0.1443 - val_loss: 1.6673 - val_categorical_accuracy: 0.2000 - lr: 1.5625e-05\n",
            "Epoch 19/30\n",
            "67/67 [==============================] - ETA: 0s - loss: 2.5272 - categorical_accuracy: 0.2388\n",
            "Epoch 00019: saving model to model_init_2021-11-1805_58_48.010909/model-00019-2.52721-0.23881-1.59305-0.23000.h5\n",
            "\n",
            "Epoch 00019: ReduceLROnPlateau reducing learning rate to 7.812500371073838e-06.\n",
            "67/67 [==============================] - 111s 2s/step - loss: 2.5272 - categorical_accuracy: 0.2388 - val_loss: 1.5930 - val_categorical_accuracy: 0.2300 - lr: 1.5625e-05\n",
            "Epoch 20/30\n",
            "67/67 [==============================] - ETA: 0s - loss: 2.8392 - categorical_accuracy: 0.2139\n",
            "Epoch 00020: saving model to model_init_2021-11-1805_58_48.010909/model-00020-2.83925-0.21393-1.61374-0.23000.h5\n",
            "67/67 [==============================] - 107s 2s/step - loss: 2.8392 - categorical_accuracy: 0.2139 - val_loss: 1.6137 - val_categorical_accuracy: 0.2300 - lr: 7.8125e-06\n",
            "Epoch 21/30\n",
            "67/67 [==============================] - ETA: 0s - loss: 2.8387 - categorical_accuracy: 0.1841\n",
            "Epoch 00021: saving model to model_init_2021-11-1805_58_48.010909/model-00021-2.83870-0.18408-1.61009-0.23000.h5\n",
            "\n",
            "Epoch 00021: ReduceLROnPlateau reducing learning rate to 3.906250185536919e-06.\n",
            "67/67 [==============================] - 112s 2s/step - loss: 2.8387 - categorical_accuracy: 0.1841 - val_loss: 1.6101 - val_categorical_accuracy: 0.2300 - lr: 7.8125e-06\n",
            "Epoch 22/30\n",
            "67/67 [==============================] - ETA: 0s - loss: 2.9093 - categorical_accuracy: 0.2040\n",
            "Epoch 00022: saving model to model_init_2021-11-1805_58_48.010909/model-00022-2.90935-0.20398-1.61215-0.21000.h5\n",
            "67/67 [==============================] - 106s 2s/step - loss: 2.9093 - categorical_accuracy: 0.2040 - val_loss: 1.6122 - val_categorical_accuracy: 0.2100 - lr: 3.9063e-06\n",
            "Epoch 23/30\n",
            "67/67 [==============================] - ETA: 0s - loss: 2.6868 - categorical_accuracy: 0.2289\n",
            "Epoch 00023: saving model to model_init_2021-11-1805_58_48.010909/model-00023-2.68675-0.22886-1.57737-0.28000.h5\n",
            "\n",
            "Epoch 00023: ReduceLROnPlateau reducing learning rate to 1.9531250927684596e-06.\n",
            "67/67 [==============================] - 117s 2s/step - loss: 2.6868 - categorical_accuracy: 0.2289 - val_loss: 1.5774 - val_categorical_accuracy: 0.2800 - lr: 3.9063e-06\n",
            "Epoch 24/30\n",
            "67/67 [==============================] - ETA: 0s - loss: 2.7519 - categorical_accuracy: 0.1891\n",
            "Epoch 00024: saving model to model_init_2021-11-1805_58_48.010909/model-00024-2.75191-0.18905-1.58778-0.22000.h5\n",
            "67/67 [==============================] - 111s 2s/step - loss: 2.7519 - categorical_accuracy: 0.1891 - val_loss: 1.5878 - val_categorical_accuracy: 0.2200 - lr: 1.9531e-06\n",
            "Epoch 25/30\n",
            "67/67 [==============================] - ETA: 0s - loss: 2.7845 - categorical_accuracy: 0.2139\n",
            "Epoch 00025: saving model to model_init_2021-11-1805_58_48.010909/model-00025-2.78450-0.21393-1.62281-0.23000.h5\n",
            "\n",
            "Epoch 00025: ReduceLROnPlateau reducing learning rate to 9.765625463842298e-07.\n",
            "67/67 [==============================] - 103s 2s/step - loss: 2.7845 - categorical_accuracy: 0.2139 - val_loss: 1.6228 - val_categorical_accuracy: 0.2300 - lr: 1.9531e-06\n",
            "Epoch 26/30\n",
            "67/67 [==============================] - ETA: 0s - loss: 2.6989 - categorical_accuracy: 0.2388\n",
            "Epoch 00026: saving model to model_init_2021-11-1805_58_48.010909/model-00026-2.69888-0.23881-1.57791-0.28000.h5\n",
            "67/67 [==============================] - 109s 2s/step - loss: 2.6989 - categorical_accuracy: 0.2388 - val_loss: 1.5779 - val_categorical_accuracy: 0.2800 - lr: 9.7656e-07\n",
            "Epoch 27/30\n",
            "67/67 [==============================] - ETA: 0s - loss: 2.9243 - categorical_accuracy: 0.1741\n",
            "Epoch 00027: saving model to model_init_2021-11-1805_58_48.010909/model-00027-2.92426-0.17413-1.64481-0.16000.h5\n",
            "\n",
            "Epoch 00027: ReduceLROnPlateau reducing learning rate to 4.882812731921149e-07.\n",
            "67/67 [==============================] - 112s 2s/step - loss: 2.9243 - categorical_accuracy: 0.1741 - val_loss: 1.6448 - val_categorical_accuracy: 0.1600 - lr: 9.7656e-07\n",
            "Epoch 28/30\n",
            "67/67 [==============================] - ETA: 0s - loss: 2.7566 - categorical_accuracy: 0.2289\n",
            "Epoch 00028: saving model to model_init_2021-11-1805_58_48.010909/model-00028-2.75655-0.22886-1.56621-0.26000.h5\n",
            "67/67 [==============================] - 109s 2s/step - loss: 2.7566 - categorical_accuracy: 0.2289 - val_loss: 1.5662 - val_categorical_accuracy: 0.2600 - lr: 4.8828e-07\n",
            "Epoch 29/30\n",
            "67/67 [==============================] - ETA: 0s - loss: 2.6739 - categorical_accuracy: 0.2537\n",
            "Epoch 00029: saving model to model_init_2021-11-1805_58_48.010909/model-00029-2.67393-0.25373-1.66161-0.22000.h5\n",
            "67/67 [==============================] - 108s 2s/step - loss: 2.6739 - categorical_accuracy: 0.2537 - val_loss: 1.6616 - val_categorical_accuracy: 0.2200 - lr: 4.8828e-07\n",
            "Epoch 30/30\n",
            "67/67 [==============================] - ETA: 0s - loss: 2.7083 - categorical_accuracy: 0.2189\n",
            "Epoch 00030: saving model to model_init_2021-11-1805_58_48.010909/model-00030-2.70825-0.21891-1.58942-0.22000.h5\n",
            "\n",
            "Epoch 00030: ReduceLROnPlateau reducing learning rate to 2.4414063659605745e-07.\n",
            "67/67 [==============================] - 108s 2s/step - loss: 2.7083 - categorical_accuracy: 0.2189 - val_loss: 1.5894 - val_categorical_accuracy: 0.2200 - lr: 4.8828e-07\n"
          ]
        },
        {
          "output_type": "execute_result",
          "data": {
            "text/plain": [
              "<keras.callbacks.History at 0x7f7535d3c0d0>"
            ]
          },
          "metadata": {},
          "execution_count": 26
        }
      ]
    },
    {
      "cell_type": "markdown",
      "metadata": {
        "id": "f99IGDOlbzZw"
      },
      "source": [
        "## Model E Experiment [8]"
      ]
    },
    {
      "cell_type": "code",
      "metadata": {
        "colab": {
          "base_uri": "https://localhost:8080/"
        },
        "id": "LUp8jkUSbzIW",
        "outputId": "5ad79d9a-39c4-460c-878b-663c46200d4e"
      },
      "source": [
        "x = 30 # number of frames\n",
        "y = 120 # image width\n",
        "z = 120 # image height \n",
        "\n",
        "classes = 5\n",
        "channel = 3\n",
        "nb_dense = [1000, 500, 5]\n",
        "\n",
        "input_shape=(x,y,z,channel)\n",
        "\n",
        "# Define model\n",
        "model_e = Sequential()\n",
        "\n",
        "model_e.add(Conv3D(nb_filters[0], \n",
        "                 kernel_size=(3,3,3), \n",
        "                 input_shape=input_shape,\n",
        "                 padding='same'))\n",
        "model_e.add(BatchNormalization())\n",
        "model_e.add(Activation('relu'))\n",
        "\n",
        "model_e.add(MaxPooling3D(pool_size=(2,2,2)))\n",
        "\n",
        "model_e.add(Conv3D(nb_filters[1], \n",
        "                 kernel_size=(3,3,3), \n",
        "                 padding='same'))\n",
        "model_e.add(BatchNormalization())\n",
        "model_e.add(Activation('relu'))\n",
        "\n",
        "model_e.add(MaxPooling3D(pool_size=(2,2,2)))\n",
        "\n",
        "model_e.add(Conv3D(nb_filters[2], \n",
        "                 kernel_size=(1,3,3), \n",
        "                 padding='same'))\n",
        "model_e.add(BatchNormalization())\n",
        "model_e.add(Activation('relu'))\n",
        "\n",
        "model_e.add(MaxPooling3D(pool_size=(2,2,2)))\n",
        "\n",
        "model_e.add(Conv3D(nb_filters[3], \n",
        "                 kernel_size=(1,3,3), \n",
        "                 padding='same'))\n",
        "model_e.add(BatchNormalization())\n",
        "model_e.add(Activation('relu'))\n",
        "\n",
        "model_e.add(MaxPooling3D(pool_size=(2,2,2)))\n",
        "\n",
        "#Flatten Layers\n",
        "model_e.add(Flatten())\n",
        "\n",
        "model_e.add(Dense(nb_dense[0], activation='relu'))\n",
        "model_e.add(Dropout(0.5))\n",
        "\n",
        "model_e.add(Dense(nb_dense[1], activation='relu'))\n",
        "model_e.add(Dropout(0.5))\n",
        "\n",
        "#softmax layer\n",
        "model_e.add(Dense(nb_dense[2], activation='softmax'))\n",
        "model_e.compile(optimizer='adadelta', loss='categorical_crossentropy', metrics=['categorical_accuracy'])\n",
        "model_e.summary()"
      ],
      "execution_count": 20,
      "outputs": [
        {
          "output_type": "stream",
          "name": "stdout",
          "text": [
            "Model: \"sequential_4\"\n",
            "_________________________________________________________________\n",
            " Layer (type)                Output Shape              Param #   \n",
            "=================================================================\n",
            " conv3d_12 (Conv3D)          (None, 30, 120, 120, 8)   656       \n",
            "                                                                 \n",
            " batch_normalization_12 (Bat  (None, 30, 120, 120, 8)  32        \n",
            " chNormalization)                                                \n",
            "                                                                 \n",
            " activation_12 (Activation)  (None, 30, 120, 120, 8)   0         \n",
            "                                                                 \n",
            " max_pooling3d_12 (MaxPoolin  (None, 15, 60, 60, 8)    0         \n",
            " g3D)                                                            \n",
            "                                                                 \n",
            " conv3d_13 (Conv3D)          (None, 15, 60, 60, 16)    3472      \n",
            "                                                                 \n",
            " batch_normalization_13 (Bat  (None, 15, 60, 60, 16)   64        \n",
            " chNormalization)                                                \n",
            "                                                                 \n",
            " activation_13 (Activation)  (None, 15, 60, 60, 16)    0         \n",
            "                                                                 \n",
            " max_pooling3d_13 (MaxPoolin  (None, 7, 30, 30, 16)    0         \n",
            " g3D)                                                            \n",
            "                                                                 \n",
            " conv3d_14 (Conv3D)          (None, 7, 30, 30, 32)     4640      \n",
            "                                                                 \n",
            " batch_normalization_14 (Bat  (None, 7, 30, 30, 32)    128       \n",
            " chNormalization)                                                \n",
            "                                                                 \n",
            " activation_14 (Activation)  (None, 7, 30, 30, 32)     0         \n",
            "                                                                 \n",
            " max_pooling3d_14 (MaxPoolin  (None, 3, 15, 15, 32)    0         \n",
            " g3D)                                                            \n",
            "                                                                 \n",
            " conv3d_15 (Conv3D)          (None, 3, 15, 15, 64)     18496     \n",
            "                                                                 \n",
            " batch_normalization_15 (Bat  (None, 3, 15, 15, 64)    256       \n",
            " chNormalization)                                                \n",
            "                                                                 \n",
            " activation_15 (Activation)  (None, 3, 15, 15, 64)     0         \n",
            "                                                                 \n",
            " max_pooling3d_15 (MaxPoolin  (None, 1, 7, 7, 64)      0         \n",
            " g3D)                                                            \n",
            "                                                                 \n",
            " flatten_3 (Flatten)         (None, 3136)              0         \n",
            "                                                                 \n",
            " dense_9 (Dense)             (None, 1000)              3137000   \n",
            "                                                                 \n",
            " dropout_6 (Dropout)         (None, 1000)              0         \n",
            "                                                                 \n",
            " dense_10 (Dense)            (None, 500)               500500    \n",
            "                                                                 \n",
            " dropout_7 (Dropout)         (None, 500)               0         \n",
            "                                                                 \n",
            " dense_11 (Dense)            (None, 5)                 2505      \n",
            "                                                                 \n",
            "=================================================================\n",
            "Total params: 3,667,749\n",
            "Trainable params: 3,667,509\n",
            "Non-trainable params: 240\n",
            "_________________________________________________________________\n"
          ]
        }
      ]
    },
    {
      "cell_type": "code",
      "metadata": {
        "colab": {
          "base_uri": "https://localhost:8080/"
        },
        "id": "_nF2GYt_dhx6",
        "outputId": "df096482-56ca-4e54-bd79-abc5e571f174"
      },
      "source": [
        "batch_size = 10\n",
        "train_generator = generator_ex(train_path, train_doc, batch_size)\n",
        "val_generator = generator_ex(val_path, val_doc, batch_size)\n",
        "num_epochs = 10\n",
        "model_e.fit_generator(train_generator, steps_per_epoch=steps_per_epoch, epochs=num_epochs, verbose=1, \n",
        "                    callbacks=callbacks_list, validation_data=val_generator, \n",
        "                    validation_steps=validation_steps, class_weight=None, workers=1, initial_epoch=0)"
      ],
      "execution_count": null,
      "outputs": [
        {
          "output_type": "stream",
          "name": "stdout",
          "text": [
            "Source path =  Project_data/train ; batch size = 10\n",
            "Epoch 1/10\n",
            "65/67 [============================>.] - ETA: 6s - loss: 2.7653 - categorical_accuracy: 0.2062 Batch:  67 Index: 10\n",
            "67/67 [==============================] - ETA: 0s - loss: 2.7705 - categorical_accuracy: 0.2036Source path =  Project_data/val ; batch size = 10\n",
            "\n",
            "Epoch 00001: saving model to model_init_2021-11-1805_58_48.010909/model-00001-2.77047-0.20362-1.60192-0.24000.h5\n",
            "67/67 [==============================] - 267s 4s/step - loss: 2.7705 - categorical_accuracy: 0.2036 - val_loss: 1.6019 - val_categorical_accuracy: 0.2400 - lr: 0.0010\n",
            "Epoch 2/10\n",
            "67/67 [==============================] - ETA: 0s - loss: 2.6048 - categorical_accuracy: 0.2289\n",
            "Epoch 00002: saving model to model_init_2021-11-1805_58_48.010909/model-00002-2.60475-0.22886-1.61474-0.25000.h5\n",
            "67/67 [==============================] - 113s 2s/step - loss: 2.6048 - categorical_accuracy: 0.2289 - val_loss: 1.6147 - val_categorical_accuracy: 0.2500 - lr: 0.0010\n",
            "Epoch 3/10\n",
            "67/67 [==============================] - ETA: 0s - loss: 2.7246 - categorical_accuracy: 0.2239\n",
            "Epoch 00003: saving model to model_init_2021-11-1805_58_48.010909/model-00003-2.72457-0.22388-1.61825-0.21000.h5\n",
            "\n",
            "Epoch 00003: ReduceLROnPlateau reducing learning rate to 0.0005000000237487257.\n",
            "67/67 [==============================] - 106s 2s/step - loss: 2.7246 - categorical_accuracy: 0.2239 - val_loss: 1.6183 - val_categorical_accuracy: 0.2100 - lr: 0.0010\n",
            "Epoch 4/10\n",
            "67/67 [==============================] - ETA: 0s - loss: 2.6490 - categorical_accuracy: 0.2289\n",
            "Epoch 00004: saving model to model_init_2021-11-1805_58_48.010909/model-00004-2.64900-0.22886-1.66991-0.27000.h5\n",
            "67/67 [==============================] - 116s 2s/step - loss: 2.6490 - categorical_accuracy: 0.2289 - val_loss: 1.6699 - val_categorical_accuracy: 0.2700 - lr: 5.0000e-04\n",
            "Epoch 5/10\n",
            "67/67 [==============================] - ETA: 0s - loss: 2.8590 - categorical_accuracy: 0.1692\n",
            "Epoch 00005: saving model to model_init_2021-11-1805_58_48.010909/model-00005-2.85899-0.16915-1.60669-0.25000.h5\n",
            "\n",
            "Epoch 00005: ReduceLROnPlateau reducing learning rate to 0.0002500000118743628.\n",
            "67/67 [==============================] - 112s 2s/step - loss: 2.8590 - categorical_accuracy: 0.1692 - val_loss: 1.6067 - val_categorical_accuracy: 0.2500 - lr: 5.0000e-04\n",
            "Epoch 6/10\n",
            "67/67 [==============================] - ETA: 0s - loss: 2.5418 - categorical_accuracy: 0.2040\n",
            "Epoch 00006: saving model to model_init_2021-11-1805_58_48.010909/model-00006-2.54185-0.20398-1.61869-0.30000.h5\n",
            "67/67 [==============================] - 113s 2s/step - loss: 2.5418 - categorical_accuracy: 0.2040 - val_loss: 1.6187 - val_categorical_accuracy: 0.3000 - lr: 2.5000e-04\n",
            "Epoch 7/10\n",
            "67/67 [==============================] - ETA: 0s - loss: 2.6839 - categorical_accuracy: 0.2139\n",
            "Epoch 00007: saving model to model_init_2021-11-1805_58_48.010909/model-00007-2.68393-0.21393-1.61758-0.29000.h5\n",
            "\n",
            "Epoch 00007: ReduceLROnPlateau reducing learning rate to 0.0001250000059371814.\n",
            "67/67 [==============================] - 106s 2s/step - loss: 2.6839 - categorical_accuracy: 0.2139 - val_loss: 1.6176 - val_categorical_accuracy: 0.2900 - lr: 2.5000e-04\n",
            "Epoch 8/10\n",
            "67/67 [==============================] - ETA: 0s - loss: 2.6161 - categorical_accuracy: 0.2189\n",
            "Epoch 00008: saving model to model_init_2021-11-1805_58_48.010909/model-00008-2.61608-0.21891-1.61367-0.27000.h5\n",
            "67/67 [==============================] - 114s 2s/step - loss: 2.6161 - categorical_accuracy: 0.2189 - val_loss: 1.6137 - val_categorical_accuracy: 0.2700 - lr: 1.2500e-04\n",
            "Epoch 9/10\n",
            "67/67 [==============================] - ETA: 0s - loss: 2.4254 - categorical_accuracy: 0.2587\n",
            "Epoch 00009: saving model to model_init_2021-11-1805_58_48.010909/model-00009-2.42538-0.25871-1.61419-0.28000.h5\n",
            "\n",
            "Epoch 00009: ReduceLROnPlateau reducing learning rate to 6.25000029685907e-05.\n",
            "67/67 [==============================] - 105s 2s/step - loss: 2.4254 - categorical_accuracy: 0.2587 - val_loss: 1.6142 - val_categorical_accuracy: 0.2800 - lr: 1.2500e-04\n",
            "Epoch 10/10\n",
            "67/67 [==============================] - ETA: 0s - loss: 2.7434 - categorical_accuracy: 0.2289\n",
            "Epoch 00010: saving model to model_init_2021-11-1805_58_48.010909/model-00010-2.74338-0.22886-1.60945-0.26000.h5\n",
            "67/67 [==============================] - 114s 2s/step - loss: 2.7434 - categorical_accuracy: 0.2289 - val_loss: 1.6095 - val_categorical_accuracy: 0.2600 - lr: 6.2500e-05\n"
          ]
        },
        {
          "output_type": "execute_result",
          "data": {
            "text/plain": [
              "<keras.callbacks.History at 0x7f75359b6050>"
            ]
          },
          "metadata": {},
          "execution_count": 29
        }
      ]
    },
    {
      "cell_type": "markdown",
      "metadata": {
        "id": "yMnrmsUBaxT6"
      },
      "source": [
        "### Model F Experiment [9]"
      ]
    },
    {
      "cell_type": "code",
      "metadata": {
        "colab": {
          "base_uri": "https://localhost:8080/"
        },
        "id": "9Hbl-V90aw7a",
        "outputId": "1f1fc582-e74b-42d2-ba8f-9c8f909ae497"
      },
      "source": [
        "x = 30 # number of frames\n",
        "y = 120 # image width\n",
        "z = 120 # image height \n",
        "\n",
        "classes = 5\n",
        "channel = 3\n",
        "\n",
        "input_shape=(x,y,z,channel)\n",
        "\n",
        "# Define model\n",
        "model_f = Sequential()\n",
        "\n",
        "model_f.add(Conv3D(nb_filters[0], \n",
        "                 kernel_size=(3,3,3), \n",
        "                 input_shape=input_shape,\n",
        "                 padding='same'))\n",
        "model_f.add(BatchNormalization())\n",
        "model_f.add(Activation('relu'))\n",
        "\n",
        "model_f.add(MaxPooling3D(pool_size=(2,2,2)))\n",
        "\n",
        "model_f.add(Conv3D(nb_filters[1], \n",
        "                 kernel_size=(3,3,3), \n",
        "                 padding='same'))\n",
        "model_f.add(BatchNormalization())\n",
        "model_f.add(Activation('relu'))\n",
        "\n",
        "model_f.add(MaxPooling3D(pool_size=(2,2,2)))\n",
        "\n",
        "model_f.add(Conv3D(nb_filters[2], \n",
        "                 kernel_size=(1,3,3), \n",
        "                 padding='same'))\n",
        "model_f.add(BatchNormalization())\n",
        "model_f.add(Activation('relu'))\n",
        "\n",
        "model_f.add(MaxPooling3D(pool_size=(2,2,2)))\n",
        "\n",
        "model_f.add(Conv3D(nb_filters[3], \n",
        "                 kernel_size=(1,3,3), \n",
        "                 padding='same'))\n",
        "model_f.add(BatchNormalization())\n",
        "model_f.add(Activation('relu'))\n",
        "\n",
        "model_f.add(MaxPooling3D(pool_size=(2,2,2)))\n",
        "\n",
        "#Flatten Layers\n",
        "model_f.add(Flatten())\n",
        "\n",
        "model_f.add(Dense(nb_dense[0], activation='relu'))\n",
        "model_f.add(Dropout(0.5))\n",
        "\n",
        "model_f.add(Dense(nb_dense[1], activation='relu'))\n",
        "model_f.add(Dropout(0.5))\n",
        "\n",
        "#softmax layer\n",
        "model_f.add(Dense(nb_dense[2], activation='softmax'))\n",
        "model_f.compile(optimizer='adadelta', loss='categorical_crossentropy', metrics=['categorical_accuracy'])\n",
        "model_f.summary()\n"
      ],
      "execution_count": 21,
      "outputs": [
        {
          "output_type": "stream",
          "name": "stdout",
          "text": [
            "Model: \"sequential_5\"\n",
            "_________________________________________________________________\n",
            " Layer (type)                Output Shape              Param #   \n",
            "=================================================================\n",
            " conv3d_16 (Conv3D)          (None, 30, 120, 120, 8)   656       \n",
            "                                                                 \n",
            " batch_normalization_16 (Bat  (None, 30, 120, 120, 8)  32        \n",
            " chNormalization)                                                \n",
            "                                                                 \n",
            " activation_16 (Activation)  (None, 30, 120, 120, 8)   0         \n",
            "                                                                 \n",
            " max_pooling3d_16 (MaxPoolin  (None, 15, 60, 60, 8)    0         \n",
            " g3D)                                                            \n",
            "                                                                 \n",
            " conv3d_17 (Conv3D)          (None, 15, 60, 60, 16)    3472      \n",
            "                                                                 \n",
            " batch_normalization_17 (Bat  (None, 15, 60, 60, 16)   64        \n",
            " chNormalization)                                                \n",
            "                                                                 \n",
            " activation_17 (Activation)  (None, 15, 60, 60, 16)    0         \n",
            "                                                                 \n",
            " max_pooling3d_17 (MaxPoolin  (None, 7, 30, 30, 16)    0         \n",
            " g3D)                                                            \n",
            "                                                                 \n",
            " conv3d_18 (Conv3D)          (None, 7, 30, 30, 32)     4640      \n",
            "                                                                 \n",
            " batch_normalization_18 (Bat  (None, 7, 30, 30, 32)    128       \n",
            " chNormalization)                                                \n",
            "                                                                 \n",
            " activation_18 (Activation)  (None, 7, 30, 30, 32)     0         \n",
            "                                                                 \n",
            " max_pooling3d_18 (MaxPoolin  (None, 3, 15, 15, 32)    0         \n",
            " g3D)                                                            \n",
            "                                                                 \n",
            " conv3d_19 (Conv3D)          (None, 3, 15, 15, 64)     18496     \n",
            "                                                                 \n",
            " batch_normalization_19 (Bat  (None, 3, 15, 15, 64)    256       \n",
            " chNormalization)                                                \n",
            "                                                                 \n",
            " activation_19 (Activation)  (None, 3, 15, 15, 64)     0         \n",
            "                                                                 \n",
            " max_pooling3d_19 (MaxPoolin  (None, 1, 7, 7, 64)      0         \n",
            " g3D)                                                            \n",
            "                                                                 \n",
            " flatten_4 (Flatten)         (None, 3136)              0         \n",
            "                                                                 \n",
            " dense_12 (Dense)            (None, 1000)              3137000   \n",
            "                                                                 \n",
            " dropout_8 (Dropout)         (None, 1000)              0         \n",
            "                                                                 \n",
            " dense_13 (Dense)            (None, 500)               500500    \n",
            "                                                                 \n",
            " dropout_9 (Dropout)         (None, 500)               0         \n",
            "                                                                 \n",
            " dense_14 (Dense)            (None, 5)                 2505      \n",
            "                                                                 \n",
            "=================================================================\n",
            "Total params: 3,667,749\n",
            "Trainable params: 3,667,509\n",
            "Non-trainable params: 240\n",
            "_________________________________________________________________\n"
          ]
        }
      ]
    },
    {
      "cell_type": "code",
      "metadata": {
        "colab": {
          "base_uri": "https://localhost:8080/"
        },
        "id": "cL6G5Zkzawqy",
        "outputId": "8d86c34e-1c6a-4991-9f64-2aed9eccaaa1"
      },
      "source": [
        "batch_size = 20\n",
        "train_generator = generator_ex(train_path, train_doc, batch_size)\n",
        "val_generator = generator_ex(val_path, val_doc, batch_size)\n",
        "num_epochs = 20\n",
        "model_f.fit_generator(train_generator, steps_per_epoch=steps_per_epoch, epochs=num_epochs, verbose=1, \n",
        "                    callbacks=callbacks_list, validation_data=val_generator, \n",
        "                    validation_steps=validation_steps, class_weight=None, workers=1, initial_epoch=0)"
      ],
      "execution_count": 22,
      "outputs": [
        {
          "output_type": "stream",
          "name": "stdout",
          "text": [
            "Source path =  Project_data/train ; batch size = 20\n",
            "Epoch 1/20\n",
            "32/67 [=============>................] - ETA: 4:02 - loss: 3.2381 - categorical_accuracy: 0.2125Batch:  34 Index: 20\n",
            "67/67 [==============================] - ETA: 0s - loss: 3.2452 - categorical_accuracy: 0.2100Source path =  Project_data/val ; batch size = 20\n",
            "\n",
            "Epoch 00001: saving model to model_init_2021-11-1817_43_46.183495/model-00001-3.24517-0.20997-1.64296-0.18000.h5\n",
            "67/67 [==============================] - 380s 5s/step - loss: 3.2452 - categorical_accuracy: 0.2100 - val_loss: 1.6430 - val_categorical_accuracy: 0.1800 - lr: 0.0010\n",
            "Epoch 2/20\n",
            "67/67 [==============================] - ETA: 0s - loss: 2.9851 - categorical_accuracy: 0.2040\n",
            "Epoch 00002: saving model to model_init_2021-11-1817_43_46.183495/model-00002-2.98513-0.20398-1.66914-0.16000.h5\n",
            "67/67 [==============================] - 162s 2s/step - loss: 2.9851 - categorical_accuracy: 0.2040 - val_loss: 1.6691 - val_categorical_accuracy: 0.1600 - lr: 0.0010\n",
            "Epoch 3/20\n",
            "67/67 [==============================] - ETA: 0s - loss: 3.1185 - categorical_accuracy: 0.2239\n",
            "Epoch 00003: saving model to model_init_2021-11-1817_43_46.183495/model-00003-3.11848-0.22388-1.68344-0.17500.h5\n",
            "\n",
            "Epoch 00003: ReduceLROnPlateau reducing learning rate to 0.0005000000237487257.\n",
            "67/67 [==============================] - 157s 2s/step - loss: 3.1185 - categorical_accuracy: 0.2239 - val_loss: 1.6834 - val_categorical_accuracy: 0.1750 - lr: 0.0010\n",
            "Epoch 4/20\n",
            "67/67 [==============================] - ETA: 0s - loss: 2.9684 - categorical_accuracy: 0.1642\n",
            "Epoch 00004: saving model to model_init_2021-11-1817_43_46.183495/model-00004-2.96843-0.16418-1.64551-0.23500.h5\n",
            "67/67 [==============================] - 155s 2s/step - loss: 2.9684 - categorical_accuracy: 0.1642 - val_loss: 1.6455 - val_categorical_accuracy: 0.2350 - lr: 5.0000e-04\n",
            "Epoch 5/20\n",
            "67/67 [==============================] - ETA: 0s - loss: 3.1164 - categorical_accuracy: 0.2338\n",
            "Epoch 00005: saving model to model_init_2021-11-1817_43_46.183495/model-00005-3.11635-0.23383-1.58539-0.30500.h5\n",
            "67/67 [==============================] - 161s 2s/step - loss: 3.1164 - categorical_accuracy: 0.2338 - val_loss: 1.5854 - val_categorical_accuracy: 0.3050 - lr: 5.0000e-04\n",
            "Epoch 6/20\n",
            "67/67 [==============================] - ETA: 0s - loss: 2.7935 - categorical_accuracy: 0.2090\n",
            "Epoch 00006: saving model to model_init_2021-11-1817_43_46.183495/model-00006-2.79348-0.20896-1.53833-0.27000.h5\n",
            "67/67 [==============================] - 153s 2s/step - loss: 2.7935 - categorical_accuracy: 0.2090 - val_loss: 1.5383 - val_categorical_accuracy: 0.2700 - lr: 5.0000e-04\n",
            "Epoch 7/20\n",
            "67/67 [==============================] - ETA: 0s - loss: 2.8387 - categorical_accuracy: 0.2438\n",
            "Epoch 00007: saving model to model_init_2021-11-1817_43_46.183495/model-00007-2.83869-0.24378-1.52721-0.32500.h5\n",
            "67/67 [==============================] - 154s 2s/step - loss: 2.8387 - categorical_accuracy: 0.2438 - val_loss: 1.5272 - val_categorical_accuracy: 0.3250 - lr: 5.0000e-04\n",
            "Epoch 8/20\n",
            "67/67 [==============================] - ETA: 0s - loss: 2.6108 - categorical_accuracy: 0.2488\n",
            "Epoch 00008: saving model to model_init_2021-11-1817_43_46.183495/model-00008-2.61080-0.24876-1.47327-0.36500.h5\n",
            "67/67 [==============================] - 154s 2s/step - loss: 2.6108 - categorical_accuracy: 0.2488 - val_loss: 1.4733 - val_categorical_accuracy: 0.3650 - lr: 5.0000e-04\n",
            "Epoch 9/20\n",
            "67/67 [==============================] - ETA: 0s - loss: 2.7926 - categorical_accuracy: 0.2239\n",
            "Epoch 00009: saving model to model_init_2021-11-1817_43_46.183495/model-00009-2.79259-0.22388-1.52391-0.34000.h5\n",
            "67/67 [==============================] - 157s 2s/step - loss: 2.7926 - categorical_accuracy: 0.2239 - val_loss: 1.5239 - val_categorical_accuracy: 0.3400 - lr: 5.0000e-04\n",
            "Epoch 10/20\n",
            "67/67 [==============================] - ETA: 0s - loss: 2.9207 - categorical_accuracy: 0.2090\n",
            "Epoch 00010: saving model to model_init_2021-11-1817_43_46.183495/model-00010-2.92068-0.20896-1.51733-0.30500.h5\n",
            "\n",
            "Epoch 00010: ReduceLROnPlateau reducing learning rate to 0.0002500000118743628.\n",
            "67/67 [==============================] - 157s 2s/step - loss: 2.9207 - categorical_accuracy: 0.2090 - val_loss: 1.5173 - val_categorical_accuracy: 0.3050 - lr: 5.0000e-04\n",
            "Epoch 11/20\n",
            "67/67 [==============================] - ETA: 0s - loss: 2.8521 - categorical_accuracy: 0.2239\n",
            "Epoch 00011: saving model to model_init_2021-11-1817_43_46.183495/model-00011-2.85206-0.22388-1.50721-0.32000.h5\n",
            "67/67 [==============================] - 157s 2s/step - loss: 2.8521 - categorical_accuracy: 0.2239 - val_loss: 1.5072 - val_categorical_accuracy: 0.3200 - lr: 2.5000e-04\n",
            "Epoch 12/20\n",
            "67/67 [==============================] - ETA: 0s - loss: 2.6891 - categorical_accuracy: 0.2338\n",
            "Epoch 00012: saving model to model_init_2021-11-1817_43_46.183495/model-00012-2.68912-0.23383-1.50504-0.32500.h5\n",
            "\n",
            "Epoch 00012: ReduceLROnPlateau reducing learning rate to 0.0001250000059371814.\n",
            "67/67 [==============================] - 151s 2s/step - loss: 2.6891 - categorical_accuracy: 0.2338 - val_loss: 1.5050 - val_categorical_accuracy: 0.3250 - lr: 2.5000e-04\n",
            "Epoch 13/20\n",
            "67/67 [==============================] - ETA: 0s - loss: 2.6766 - categorical_accuracy: 0.2438\n",
            "Epoch 00013: saving model to model_init_2021-11-1817_43_46.183495/model-00013-2.67658-0.24378-1.51701-0.30500.h5\n",
            "67/67 [==============================] - 157s 2s/step - loss: 2.6766 - categorical_accuracy: 0.2438 - val_loss: 1.5170 - val_categorical_accuracy: 0.3050 - lr: 1.2500e-04\n",
            "Epoch 14/20\n",
            "67/67 [==============================] - ETA: 0s - loss: 2.6444 - categorical_accuracy: 0.2388\n",
            "Epoch 00014: saving model to model_init_2021-11-1817_43_46.183495/model-00014-2.64441-0.23881-1.50836-0.30500.h5\n",
            "\n",
            "Epoch 00014: ReduceLROnPlateau reducing learning rate to 6.25000029685907e-05.\n",
            "67/67 [==============================] - 155s 2s/step - loss: 2.6444 - categorical_accuracy: 0.2388 - val_loss: 1.5084 - val_categorical_accuracy: 0.3050 - lr: 1.2500e-04\n",
            "Epoch 15/20\n",
            "67/67 [==============================] - ETA: 0s - loss: 2.8245 - categorical_accuracy: 0.1940\n",
            "Epoch 00015: saving model to model_init_2021-11-1817_43_46.183495/model-00015-2.82450-0.19403-1.49878-0.29000.h5\n",
            "67/67 [==============================] - 157s 2s/step - loss: 2.8245 - categorical_accuracy: 0.1940 - val_loss: 1.4988 - val_categorical_accuracy: 0.2900 - lr: 6.2500e-05\n",
            "Epoch 16/20\n",
            "67/67 [==============================] - ETA: 0s - loss: 2.4959 - categorical_accuracy: 0.2488\n",
            "Epoch 00016: saving model to model_init_2021-11-1817_43_46.183495/model-00016-2.49591-0.24876-1.49790-0.31000.h5\n",
            "\n",
            "Epoch 00016: ReduceLROnPlateau reducing learning rate to 3.125000148429535e-05.\n",
            "67/67 [==============================] - 156s 2s/step - loss: 2.4959 - categorical_accuracy: 0.2488 - val_loss: 1.4979 - val_categorical_accuracy: 0.3100 - lr: 6.2500e-05\n",
            "Epoch 17/20\n",
            "67/67 [==============================] - ETA: 0s - loss: 2.8818 - categorical_accuracy: 0.2786\n",
            "Epoch 00017: saving model to model_init_2021-11-1817_43_46.183495/model-00017-2.88184-0.27861-1.52578-0.27500.h5\n",
            "67/67 [==============================] - 157s 2s/step - loss: 2.8818 - categorical_accuracy: 0.2786 - val_loss: 1.5258 - val_categorical_accuracy: 0.2750 - lr: 3.1250e-05\n",
            "Epoch 18/20\n",
            "67/67 [==============================] - ETA: 0s - loss: 2.5506 - categorical_accuracy: 0.2587\n",
            "Epoch 00018: saving model to model_init_2021-11-1817_43_46.183495/model-00018-2.55060-0.25871-1.53502-0.26500.h5\n",
            "\n",
            "Epoch 00018: ReduceLROnPlateau reducing learning rate to 1.5625000742147677e-05.\n",
            "67/67 [==============================] - 151s 2s/step - loss: 2.5506 - categorical_accuracy: 0.2587 - val_loss: 1.5350 - val_categorical_accuracy: 0.2650 - lr: 3.1250e-05\n",
            "Epoch 19/20\n",
            "67/67 [==============================] - ETA: 0s - loss: 2.7043 - categorical_accuracy: 0.2189\n",
            "Epoch 00019: saving model to model_init_2021-11-1817_43_46.183495/model-00019-2.70430-0.21891-1.50493-0.30500.h5\n",
            "67/67 [==============================] - 159s 2s/step - loss: 2.7043 - categorical_accuracy: 0.2189 - val_loss: 1.5049 - val_categorical_accuracy: 0.3050 - lr: 1.5625e-05\n",
            "Epoch 20/20\n",
            "67/67 [==============================] - ETA: 0s - loss: 2.7609 - categorical_accuracy: 0.1891\n",
            "Epoch 00020: saving model to model_init_2021-11-1817_43_46.183495/model-00020-2.76092-0.18905-1.49131-0.30500.h5\n",
            "\n",
            "Epoch 00020: ReduceLROnPlateau reducing learning rate to 7.812500371073838e-06.\n",
            "67/67 [==============================] - 155s 2s/step - loss: 2.7609 - categorical_accuracy: 0.1891 - val_loss: 1.4913 - val_categorical_accuracy: 0.3050 - lr: 1.5625e-05\n"
          ]
        },
        {
          "output_type": "execute_result",
          "data": {
            "text/plain": [
              "<keras.callbacks.History at 0x7f9eceeec5d0>"
            ]
          },
          "metadata": {},
          "execution_count": 22
        }
      ]
    },
    {
      "cell_type": "markdown",
      "metadata": {
        "id": "Z06tJXMyZjll"
      },
      "source": [
        "### Model G Experiment [10] "
      ]
    },
    {
      "cell_type": "code",
      "metadata": {
        "colab": {
          "base_uri": "https://localhost:8080/"
        },
        "id": "BBsbhj87ZIU8",
        "outputId": "28bc8176-8b74-4fb8-a225-00cbe131b9ec"
      },
      "source": [
        "x = 30 # number of frames\n",
        "y = 120 # image width\n",
        "z = 120 # image height \n",
        "\n",
        "classes = 5\n",
        "channel = 3\n",
        "\n",
        "input_shape=(x,y,z,channel)\n",
        "\n",
        "# Define model\n",
        "model_g = Sequential()\n",
        "\n",
        "model_g.add(Conv3D(nb_filters[0], \n",
        "                 kernel_size=(3,3,3), \n",
        "                 input_shape=input_shape,\n",
        "                 padding='same'))\n",
        "model_g.add(BatchNormalization())\n",
        "model_g.add(Activation('relu'))\n",
        "\n",
        "model_g.add(MaxPooling3D(pool_size=(2,2,2)))\n",
        "\n",
        "model_g.add(Conv3D(nb_filters[1], \n",
        "                 kernel_size=(3,3,3), \n",
        "                 padding='same'))\n",
        "model_g.add(BatchNormalization())\n",
        "model_g.add(Activation('relu'))\n",
        "\n",
        "model_g.add(MaxPooling3D(pool_size=(2,2,2)))\n",
        "\n",
        "model_g.add(Conv3D(nb_filters[2], \n",
        "                 kernel_size=(1,3,3), \n",
        "                 padding='same'))\n",
        "model_g.add(BatchNormalization())\n",
        "model_g.add(Activation('relu'))\n",
        "\n",
        "model_g.add(MaxPooling3D(pool_size=(2,2,2)))\n",
        "\n",
        "model_g.add(Conv3D(nb_filters[3], \n",
        "                 kernel_size=(1,3,3), \n",
        "                 padding='same'))\n",
        "model_g.add(Activation('relu'))\n",
        "model_g.add(Dropout(0.25))\n",
        "\n",
        "model_g.add(MaxPooling3D(pool_size=(2,2,2)))\n",
        "\n",
        "#Flatten Layers\n",
        "model_g.add(Flatten())\n",
        "\n",
        "model_g.add(Dense(nb_dense[0], activation='relu'))\n",
        "model_g.add(Dropout(0.5))\n",
        "\n",
        "model_g.add(Dense(nb_dense[1], activation='relu'))\n",
        "model_g.add(Dropout(0.5))\n",
        "\n",
        "#softmax layer\n",
        "model_g.add(Dense(nb_dense[2], activation='softmax'))\n",
        "model_g.compile(optimizer='adadelta', loss='categorical_crossentropy', metrics=['categorical_accuracy'])\n",
        "model_g.summary()"
      ],
      "execution_count": 23,
      "outputs": [
        {
          "output_type": "stream",
          "name": "stdout",
          "text": [
            "Model: \"sequential_6\"\n",
            "_________________________________________________________________\n",
            " Layer (type)                Output Shape              Param #   \n",
            "=================================================================\n",
            " conv3d_20 (Conv3D)          (None, 30, 120, 120, 8)   656       \n",
            "                                                                 \n",
            " batch_normalization_20 (Bat  (None, 30, 120, 120, 8)  32        \n",
            " chNormalization)                                                \n",
            "                                                                 \n",
            " activation_20 (Activation)  (None, 30, 120, 120, 8)   0         \n",
            "                                                                 \n",
            " max_pooling3d_20 (MaxPoolin  (None, 15, 60, 60, 8)    0         \n",
            " g3D)                                                            \n",
            "                                                                 \n",
            " conv3d_21 (Conv3D)          (None, 15, 60, 60, 16)    3472      \n",
            "                                                                 \n",
            " batch_normalization_21 (Bat  (None, 15, 60, 60, 16)   64        \n",
            " chNormalization)                                                \n",
            "                                                                 \n",
            " activation_21 (Activation)  (None, 15, 60, 60, 16)    0         \n",
            "                                                                 \n",
            " max_pooling3d_21 (MaxPoolin  (None, 7, 30, 30, 16)    0         \n",
            " g3D)                                                            \n",
            "                                                                 \n",
            " conv3d_22 (Conv3D)          (None, 7, 30, 30, 32)     4640      \n",
            "                                                                 \n",
            " batch_normalization_22 (Bat  (None, 7, 30, 30, 32)    128       \n",
            " chNormalization)                                                \n",
            "                                                                 \n",
            " activation_22 (Activation)  (None, 7, 30, 30, 32)     0         \n",
            "                                                                 \n",
            " max_pooling3d_22 (MaxPoolin  (None, 3, 15, 15, 32)    0         \n",
            " g3D)                                                            \n",
            "                                                                 \n",
            " conv3d_23 (Conv3D)          (None, 3, 15, 15, 64)     18496     \n",
            "                                                                 \n",
            " activation_23 (Activation)  (None, 3, 15, 15, 64)     0         \n",
            "                                                                 \n",
            " dropout_10 (Dropout)        (None, 3, 15, 15, 64)     0         \n",
            "                                                                 \n",
            " max_pooling3d_23 (MaxPoolin  (None, 1, 7, 7, 64)      0         \n",
            " g3D)                                                            \n",
            "                                                                 \n",
            " flatten_5 (Flatten)         (None, 3136)              0         \n",
            "                                                                 \n",
            " dense_15 (Dense)            (None, 1000)              3137000   \n",
            "                                                                 \n",
            " dropout_11 (Dropout)        (None, 1000)              0         \n",
            "                                                                 \n",
            " dense_16 (Dense)            (None, 500)               500500    \n",
            "                                                                 \n",
            " dropout_12 (Dropout)        (None, 500)               0         \n",
            "                                                                 \n",
            " dense_17 (Dense)            (None, 5)                 2505      \n",
            "                                                                 \n",
            "=================================================================\n",
            "Total params: 3,667,493\n",
            "Trainable params: 3,667,381\n",
            "Non-trainable params: 112\n",
            "_________________________________________________________________\n"
          ]
        }
      ]
    },
    {
      "cell_type": "code",
      "metadata": {
        "colab": {
          "base_uri": "https://localhost:8080/"
        },
        "id": "kr4DlPVCZH5m",
        "outputId": "ea9581a9-843a-46ae-e921-30795c4d6b7f"
      },
      "source": [
        "batch_size = 30\n",
        "train_generator = generator_ex(train_path, train_doc, batch_size)\n",
        "val_generator = generator_ex(val_path, val_doc, batch_size)\n",
        "num_epochs = 10\n",
        "model_g.fit_generator(train_generator, steps_per_epoch=steps_per_epoch, epochs=num_epochs, verbose=1, \n",
        "                    callbacks=callbacks_list, validation_data=val_generator, \n",
        "                    validation_steps=validation_steps, class_weight=None, workers=1, initial_epoch=0)"
      ],
      "execution_count": 24,
      "outputs": [
        {
          "output_type": "stream",
          "name": "stdout",
          "text": [
            "Source path =  Project_data/train ; batch size = 30\n",
            "Epoch 1/10\n",
            "21/67 [========>.....................] - ETA: 7:51 - loss: 3.6702 - categorical_accuracy: 0.2222Batch:  23 Index: 30\n",
            "67/67 [==============================] - ETA: 0s - loss: 3.6002 - categorical_accuracy: 0.2113Source path =  Project_data/val ; batch size = 30\n",
            "Batch:  4 Index: 30\n",
            "\n",
            "Epoch 00001: saving model to model_init_2021-11-1817_43_46.183495/model-00001-3.60019-0.21132-1.62513-0.25625.h5\n",
            "67/67 [==============================] - 356s 5s/step - loss: 3.6002 - categorical_accuracy: 0.2113 - val_loss: 1.6251 - val_categorical_accuracy: 0.2562 - lr: 0.0010\n",
            "Epoch 2/10\n",
            "67/67 [==============================] - ETA: 0s - loss: 3.2722 - categorical_accuracy: 0.2388\n",
            "Epoch 00002: saving model to model_init_2021-11-1817_43_46.183495/model-00002-3.27217-0.23881-1.66529-0.18000.h5\n",
            "67/67 [==============================] - 113s 2s/step - loss: 3.2722 - categorical_accuracy: 0.2388 - val_loss: 1.6653 - val_categorical_accuracy: 0.1800 - lr: 0.0010\n",
            "Epoch 3/10\n",
            "67/67 [==============================] - ETA: 0s - loss: 3.3960 - categorical_accuracy: 0.1841\n",
            "Epoch 00003: saving model to model_init_2021-11-1817_43_46.183495/model-00003-3.39598-0.18408-1.63985-0.25000.h5\n",
            "\n",
            "Epoch 00003: ReduceLROnPlateau reducing learning rate to 0.0005000000237487257.\n",
            "67/67 [==============================] - 116s 2s/step - loss: 3.3960 - categorical_accuracy: 0.1841 - val_loss: 1.6399 - val_categorical_accuracy: 0.2500 - lr: 0.0010\n",
            "Epoch 4/10\n",
            "67/67 [==============================] - ETA: 0s - loss: 3.2369 - categorical_accuracy: 0.1791\n",
            "Epoch 00004: saving model to model_init_2021-11-1817_43_46.183495/model-00004-3.23688-0.17910-1.67243-0.21000.h5\n",
            "67/67 [==============================] - 114s 2s/step - loss: 3.2369 - categorical_accuracy: 0.1791 - val_loss: 1.6724 - val_categorical_accuracy: 0.2100 - lr: 5.0000e-04\n",
            "Epoch 5/10\n",
            "67/67 [==============================] - ETA: 0s - loss: 3.0426 - categorical_accuracy: 0.1940\n",
            "Epoch 00005: saving model to model_init_2021-11-1817_43_46.183495/model-00005-3.04258-0.19403-1.68211-0.21000.h5\n",
            "\n",
            "Epoch 00005: ReduceLROnPlateau reducing learning rate to 0.0002500000118743628.\n",
            "67/67 [==============================] - 115s 2s/step - loss: 3.0426 - categorical_accuracy: 0.1940 - val_loss: 1.6821 - val_categorical_accuracy: 0.2100 - lr: 5.0000e-04\n",
            "Epoch 6/10\n",
            "67/67 [==============================] - ETA: 0s - loss: 3.0124 - categorical_accuracy: 0.2388\n",
            "Epoch 00006: saving model to model_init_2021-11-1817_43_46.183495/model-00006-3.01243-0.23881-1.71527-0.21000.h5\n",
            "67/67 [==============================] - 111s 2s/step - loss: 3.0124 - categorical_accuracy: 0.2388 - val_loss: 1.7153 - val_categorical_accuracy: 0.2100 - lr: 2.5000e-04\n",
            "Epoch 7/10\n",
            "67/67 [==============================] - ETA: 0s - loss: 3.2181 - categorical_accuracy: 0.1990\n",
            "Epoch 00007: saving model to model_init_2021-11-1817_43_46.183495/model-00007-3.21806-0.19900-1.69392-0.26000.h5\n",
            "\n",
            "Epoch 00007: ReduceLROnPlateau reducing learning rate to 0.0001250000059371814.\n",
            "67/67 [==============================] - 115s 2s/step - loss: 3.2181 - categorical_accuracy: 0.1990 - val_loss: 1.6939 - val_categorical_accuracy: 0.2600 - lr: 2.5000e-04\n",
            "Epoch 8/10\n",
            "67/67 [==============================] - ETA: 0s - loss: 2.9231 - categorical_accuracy: 0.2388\n",
            "Epoch 00008: saving model to model_init_2021-11-1817_43_46.183495/model-00008-2.92313-0.23881-1.71001-0.24000.h5\n",
            "67/67 [==============================] - 115s 2s/step - loss: 2.9231 - categorical_accuracy: 0.2388 - val_loss: 1.7100 - val_categorical_accuracy: 0.2400 - lr: 1.2500e-04\n",
            "Epoch 9/10\n",
            "67/67 [==============================] - ETA: 0s - loss: 3.1117 - categorical_accuracy: 0.2090\n",
            "Epoch 00009: saving model to model_init_2021-11-1817_43_46.183495/model-00009-3.11172-0.20896-1.73729-0.19000.h5\n",
            "\n",
            "Epoch 00009: ReduceLROnPlateau reducing learning rate to 6.25000029685907e-05.\n",
            "67/67 [==============================] - 116s 2s/step - loss: 3.1117 - categorical_accuracy: 0.2090 - val_loss: 1.7373 - val_categorical_accuracy: 0.1900 - lr: 1.2500e-04\n",
            "Epoch 10/10\n",
            "67/67 [==============================] - ETA: 0s - loss: 2.8806 - categorical_accuracy: 0.2239\n",
            "Epoch 00010: saving model to model_init_2021-11-1817_43_46.183495/model-00010-2.88062-0.22388-1.73923-0.22000.h5\n",
            "67/67 [==============================] - 114s 2s/step - loss: 2.8806 - categorical_accuracy: 0.2239 - val_loss: 1.7392 - val_categorical_accuracy: 0.2200 - lr: 6.2500e-05\n"
          ]
        },
        {
          "output_type": "execute_result",
          "data": {
            "text/plain": [
              "<keras.callbacks.History at 0x7f9ecef6c9d0>"
            ]
          },
          "metadata": {},
          "execution_count": 24
        }
      ]
    },
    {
      "cell_type": "markdown",
      "metadata": {
        "id": "7-RcJn277dOe"
      },
      "source": [
        "### Final Model"
      ]
    },
    {
      "cell_type": "code",
      "metadata": {
        "id": "2-Up3SNU7dOe"
      },
      "source": [
        "nb_filters = [8,16,32,64]\n",
        "nb_dense = [256, 128, 5]\n",
        "\n",
        "batch_size = 40\n",
        "num_epochs = 20\n",
        "\n",
        "# Input\n",
        "input_shape=(30,120,120,3)\n",
        "\n",
        "# Define model\n",
        "model_final = Sequential()\n",
        "\n",
        "model_final.add(Conv3D(nb_filters[0], \n",
        "                 kernel_size=(3,3,3), \n",
        "                 input_shape=input_shape,\n",
        "                 padding='same'))\n",
        "model_final.add(BatchNormalization())\n",
        "model_final.add(Activation('relu'))\n",
        "\n",
        "model_final.add(MaxPooling3D(pool_size=(2,2,2)))\n",
        "\n",
        "model_final.add(Conv3D(nb_filters[1], \n",
        "                 kernel_size=(3,3,3), \n",
        "                 padding='same'))\n",
        "model_final.add(BatchNormalization())\n",
        "model_final.add(Activation('relu'))\n",
        "\n",
        "model_final.add(MaxPooling3D(pool_size=(2,2,2)))\n",
        "\n",
        "model_final.add(Conv3D(nb_filters[2], \n",
        "                 kernel_size=(1,3,3), \n",
        "                 padding='same'))\n",
        "model_final.add(BatchNormalization())\n",
        "model_final.add(Activation('relu'))\n",
        "\n",
        "model_final.add(MaxPooling3D(pool_size=(2,2,2)))\n",
        "\n",
        "model_final.add(Conv3D(nb_filters[3], \n",
        "                 kernel_size=(1,3,3), \n",
        "                 padding='same'))\n",
        "model_final.add(Activation('relu'))\n",
        "model_final.add(Dropout(0.25))\n",
        "\n",
        "model_final.add(MaxPooling3D(pool_size=(2,2,2)))\n",
        "\n",
        "#Flatten Layers\n",
        "model_final.add(Flatten())\n",
        "\n",
        "model_final.add(Dense(nb_dense[0], activation='relu'))\n",
        "model_final.add(Dropout(0.5))\n",
        "\n",
        "model_final.add(Dense(nb_dense[1], activation='relu'))\n",
        "model_final.add(Dropout(0.5))\n",
        "\n",
        "#softmax layer\n",
        "model_final.add(Dense(nb_dense[2], activation='softmax'))"
      ],
      "execution_count": null,
      "outputs": []
    },
    {
      "cell_type": "code",
      "metadata": {
        "id": "n-XkvBNi7dOf",
        "colab": {
          "base_uri": "https://localhost:8080/"
        },
        "outputId": "58cf34cf-ff0a-4e5f-a322-7f817fc97d95"
      },
      "source": [
        "optimiser = 'adam' #write your optimizer\n",
        "model_final.compile(optimizer=optimiser, loss='categorical_crossentropy', metrics=['categorical_accuracy'])\n",
        "print (model_final.summary())"
      ],
      "execution_count": null,
      "outputs": [
        {
          "output_type": "stream",
          "name": "stdout",
          "text": [
            "Model: \"sequential_2\"\n",
            "_________________________________________________________________\n",
            " Layer (type)                Output Shape              Param #   \n",
            "=================================================================\n",
            " conv3d_8 (Conv3D)           (None, 30, 120, 120, 8)   656       \n",
            "                                                                 \n",
            " batch_normalization_7 (Batc  (None, 30, 120, 120, 8)  32        \n",
            " hNormalization)                                                 \n",
            "                                                                 \n",
            " activation_8 (Activation)   (None, 30, 120, 120, 8)   0         \n",
            "                                                                 \n",
            " max_pooling3d_8 (MaxPooling  (None, 15, 60, 60, 8)    0         \n",
            " 3D)                                                             \n",
            "                                                                 \n",
            " conv3d_9 (Conv3D)           (None, 15, 60, 60, 16)    3472      \n",
            "                                                                 \n",
            " batch_normalization_8 (Batc  (None, 15, 60, 60, 16)   64        \n",
            " hNormalization)                                                 \n",
            "                                                                 \n",
            " activation_9 (Activation)   (None, 15, 60, 60, 16)    0         \n",
            "                                                                 \n",
            " max_pooling3d_9 (MaxPooling  (None, 7, 30, 30, 16)    0         \n",
            " 3D)                                                             \n",
            "                                                                 \n",
            " conv3d_10 (Conv3D)          (None, 7, 30, 30, 32)     4640      \n",
            "                                                                 \n",
            " batch_normalization_9 (Batc  (None, 7, 30, 30, 32)    128       \n",
            " hNormalization)                                                 \n",
            "                                                                 \n",
            " activation_10 (Activation)  (None, 7, 30, 30, 32)     0         \n",
            "                                                                 \n",
            " max_pooling3d_10 (MaxPoolin  (None, 3, 15, 15, 32)    0         \n",
            " g3D)                                                            \n",
            "                                                                 \n",
            " conv3d_11 (Conv3D)          (None, 3, 15, 15, 64)     18496     \n",
            "                                                                 \n",
            " activation_11 (Activation)  (None, 3, 15, 15, 64)     0         \n",
            "                                                                 \n",
            " dropout_5 (Dropout)         (None, 3, 15, 15, 64)     0         \n",
            "                                                                 \n",
            " max_pooling3d_11 (MaxPoolin  (None, 1, 7, 7, 64)      0         \n",
            " g3D)                                                            \n",
            "                                                                 \n",
            " flatten_2 (Flatten)         (None, 3136)              0         \n",
            "                                                                 \n",
            " dense_6 (Dense)             (None, 256)               803072    \n",
            "                                                                 \n",
            " dropout_6 (Dropout)         (None, 256)               0         \n",
            "                                                                 \n",
            " dense_7 (Dense)             (None, 128)               32896     \n",
            "                                                                 \n",
            " dropout_7 (Dropout)         (None, 128)               0         \n",
            "                                                                 \n",
            " dense_8 (Dense)             (None, 5)                 645       \n",
            "                                                                 \n",
            "=================================================================\n",
            "Total params: 864,101\n",
            "Trainable params: 863,989\n",
            "Non-trainable params: 112\n",
            "_________________________________________________________________\n",
            "None\n"
          ]
        }
      ]
    },
    {
      "cell_type": "code",
      "metadata": {
        "id": "hOzT2B2L7dOg"
      },
      "source": [
        "train_generator = generator_ex(train_path, train_doc, batch_size)\n",
        "val_generator = generator_ex(val_path, val_doc, batch_size)"
      ],
      "execution_count": null,
      "outputs": []
    },
    {
      "cell_type": "code",
      "metadata": {
        "id": "h-fEakSK7dOg",
        "colab": {
          "base_uri": "https://localhost:8080/"
        },
        "outputId": "724ea1b6-77e6-45a5-bf7a-5d7fefee0485"
      },
      "source": [
        "model_final.fit_generator(train_generator, steps_per_epoch=steps_per_epoch, epochs=num_epochs, verbose=1, \n",
        "                    callbacks=callbacks_list, validation_data=val_generator, \n",
        "                    validation_steps=validation_steps, class_weight=None, workers=1, initial_epoch=0)"
      ],
      "execution_count": null,
      "outputs": [
        {
          "output_type": "stream",
          "name": "stdout",
          "text": [
            "Source path =  Project_data/train ; batch size = 40\n",
            "Epoch 1/20\n",
            "15/67 [=====>........................] - ETA: 11:12 - loss: 2.4541 - categorical_accuracy: 0.2383Batch:  17 Index: 40\n",
            "44/67 [==================>...........] - ETA: 3:43 - loss: 1.9561 - categorical_accuracy: 0.2780Batch:  29 Index: 23\n",
            "67/67 [==============================] - ETA: 0s - loss: 1.8099 - categorical_accuracy: 0.3148Source path =  Project_data/val ; batch size = 40\n",
            "Batch:  3 Index: 40\n",
            "\n",
            "Epoch 00001: saving model to model_init_2021-11-1811_52_10.520291/model-00001-1.80992-0.31478-1.58957-0.18750.h5\n",
            "67/67 [==============================] - 700s 10s/step - loss: 1.8099 - categorical_accuracy: 0.3148 - val_loss: 1.5896 - val_categorical_accuracy: 0.1875 - lr: 0.0010\n",
            "Epoch 2/20\n",
            "12/67 [====>.........................] - ETA: 5:50 - loss: 1.3822 - categorical_accuracy: 0.3816Batch:  35 Index: 19\n",
            "67/67 [==============================] - ETA: 0s - loss: 1.2618 - categorical_accuracy: 0.4489\n",
            "Epoch 00002: saving model to model_init_2021-11-1811_52_10.520291/model-00002-1.26178-0.44893-1.56113-0.34000.h5\n",
            "67/67 [==============================] - 476s 7s/step - loss: 1.2618 - categorical_accuracy: 0.4489 - val_loss: 1.5611 - val_categorical_accuracy: 0.3400 - lr: 0.0010\n",
            "Epoch 3/20\n",
            "67/67 [==============================] - ETA: 0s - loss: 1.1186 - categorical_accuracy: 0.5277\n",
            "Epoch 00003: saving model to model_init_2021-11-1811_52_10.520291/model-00003-1.11856-0.52766-1.10039-0.58000.h5\n",
            "67/67 [==============================] - 460s 7s/step - loss: 1.1186 - categorical_accuracy: 0.5277 - val_loss: 1.1004 - val_categorical_accuracy: 0.5800 - lr: 0.0010\n",
            "Epoch 4/20\n",
            "67/67 [==============================] - ETA: 0s - loss: 0.9908 - categorical_accuracy: 0.6049\n",
            "Epoch 00004: saving model to model_init_2021-11-1811_52_10.520291/model-00004-0.99077-0.60492-1.07493-0.61000.h5\n",
            "67/67 [==============================] - 467s 7s/step - loss: 0.9908 - categorical_accuracy: 0.6049 - val_loss: 1.0749 - val_categorical_accuracy: 0.6100 - lr: 0.0010\n",
            "Epoch 5/20\n",
            "67/67 [==============================] - ETA: 0s - loss: 0.7961 - categorical_accuracy: 0.6831\n",
            "Epoch 00005: saving model to model_init_2021-11-1811_52_10.520291/model-00005-0.79609-0.68306-0.84788-0.66500.h5\n",
            "67/67 [==============================] - 462s 7s/step - loss: 0.7961 - categorical_accuracy: 0.6831 - val_loss: 0.8479 - val_categorical_accuracy: 0.6650 - lr: 0.0010\n",
            "Epoch 6/20\n",
            "67/67 [==============================] - ETA: 0s - loss: 0.6307 - categorical_accuracy: 0.7507\n",
            "Epoch 00006: saving model to model_init_2021-11-1811_52_10.520291/model-00006-0.63073-0.75066-0.97273-0.64000.h5\n",
            "67/67 [==============================] - 462s 7s/step - loss: 0.6307 - categorical_accuracy: 0.7507 - val_loss: 0.9727 - val_categorical_accuracy: 0.6400 - lr: 0.0010\n",
            "Epoch 7/20\n",
            "67/67 [==============================] - ETA: 0s - loss: 0.5459 - categorical_accuracy: 0.7963\n",
            "Epoch 00007: saving model to model_init_2021-11-1811_52_10.520291/model-00007-0.54590-0.79631-0.64923-0.70500.h5\n",
            "67/67 [==============================] - 466s 7s/step - loss: 0.5459 - categorical_accuracy: 0.7963 - val_loss: 0.6492 - val_categorical_accuracy: 0.7050 - lr: 0.0010\n",
            "Epoch 8/20\n",
            "67/67 [==============================] - ETA: 0s - loss: 0.4063 - categorical_accuracy: 0.8472\n",
            "Epoch 00008: saving model to model_init_2021-11-1811_52_10.520291/model-00008-0.40631-0.84723-0.79518-0.66500.h5\n",
            "67/67 [==============================] - 465s 7s/step - loss: 0.4063 - categorical_accuracy: 0.8472 - val_loss: 0.7952 - val_categorical_accuracy: 0.6650 - lr: 0.0010\n",
            "Epoch 9/20\n",
            "67/67 [==============================] - ETA: 0s - loss: 0.3370 - categorical_accuracy: 0.8788\n",
            "Epoch 00009: saving model to model_init_2021-11-1811_52_10.520291/model-00009-0.33699-0.87884-1.18296-0.57000.h5\n",
            "\n",
            "Epoch 00009: ReduceLROnPlateau reducing learning rate to 0.0005000000237487257.\n",
            "67/67 [==============================] - 468s 7s/step - loss: 0.3370 - categorical_accuracy: 0.8788 - val_loss: 1.1830 - val_categorical_accuracy: 0.5700 - lr: 0.0010\n",
            "Epoch 10/20\n",
            "67/67 [==============================] - ETA: 0s - loss: 0.1968 - categorical_accuracy: 0.9342\n",
            "Epoch 00010: saving model to model_init_2021-11-1811_52_10.520291/model-00010-0.19681-0.93415-1.00979-0.66000.h5\n",
            "67/67 [==============================] - 470s 7s/step - loss: 0.1968 - categorical_accuracy: 0.9342 - val_loss: 1.0098 - val_categorical_accuracy: 0.6600 - lr: 5.0000e-04\n",
            "Epoch 11/20\n",
            "67/67 [==============================] - ETA: 0s - loss: 0.1553 - categorical_accuracy: 0.9473\n",
            "Epoch 00011: saving model to model_init_2021-11-1811_52_10.520291/model-00011-0.15526-0.94732-0.81610-0.70000.h5\n",
            "\n",
            "Epoch 00011: ReduceLROnPlateau reducing learning rate to 0.0002500000118743628.\n",
            "67/67 [==============================] - 463s 7s/step - loss: 0.1553 - categorical_accuracy: 0.9473 - val_loss: 0.8161 - val_categorical_accuracy: 0.7000 - lr: 5.0000e-04\n",
            "Epoch 12/20\n",
            "67/67 [==============================] - ETA: 0s - loss: 0.0970 - categorical_accuracy: 0.9781\n",
            "Epoch 00012: saving model to model_init_2021-11-1811_52_10.520291/model-00012-0.09697-0.97805-0.73075-0.76500.h5\n",
            "67/67 [==============================] - 470s 7s/step - loss: 0.0970 - categorical_accuracy: 0.9781 - val_loss: 0.7308 - val_categorical_accuracy: 0.7650 - lr: 2.5000e-04\n",
            "Epoch 13/20\n",
            "67/67 [==============================] - ETA: 0s - loss: 0.0847 - categorical_accuracy: 0.9772\n",
            "Epoch 00013: saving model to model_init_2021-11-1811_52_10.520291/model-00013-0.08474-0.97717-0.79247-0.76500.h5\n",
            "\n",
            "Epoch 00013: ReduceLROnPlateau reducing learning rate to 0.0001250000059371814.\n",
            "67/67 [==============================] - 479s 7s/step - loss: 0.0847 - categorical_accuracy: 0.9772 - val_loss: 0.7925 - val_categorical_accuracy: 0.7650 - lr: 2.5000e-04\n",
            "Epoch 14/20\n",
            "67/67 [==============================] - ETA: 0s - loss: 0.0750 - categorical_accuracy: 0.9781\n",
            "Epoch 00014: saving model to model_init_2021-11-1811_52_10.520291/model-00014-0.07503-0.97805-0.77798-0.79000.h5\n",
            "67/67 [==============================] - 481s 7s/step - loss: 0.0750 - categorical_accuracy: 0.9781 - val_loss: 0.7780 - val_categorical_accuracy: 0.7900 - lr: 1.2500e-04\n",
            "Epoch 15/20\n",
            "67/67 [==============================] - ETA: 0s - loss: 0.0673 - categorical_accuracy: 0.9807\n",
            "Epoch 00015: saving model to model_init_2021-11-1811_52_10.520291/model-00015-0.06727-0.98068-0.76638-0.78500.h5\n",
            "\n",
            "Epoch 00015: ReduceLROnPlateau reducing learning rate to 6.25000029685907e-05.\n",
            "67/67 [==============================] - 479s 7s/step - loss: 0.0673 - categorical_accuracy: 0.9807 - val_loss: 0.7664 - val_categorical_accuracy: 0.7850 - lr: 1.2500e-04\n",
            "Epoch 16/20\n",
            "67/67 [==============================] - ETA: 0s - loss: 0.0675 - categorical_accuracy: 0.9798\n",
            "Epoch 00016: saving model to model_init_2021-11-1811_52_10.520291/model-00016-0.06748-0.97981-0.83210-0.77500.h5\n",
            "67/67 [==============================] - 460s 7s/step - loss: 0.0675 - categorical_accuracy: 0.9798 - val_loss: 0.8321 - val_categorical_accuracy: 0.7750 - lr: 6.2500e-05\n",
            "Epoch 17/20\n",
            "67/67 [==============================] - ETA: 0s - loss: 0.0504 - categorical_accuracy: 0.9868\n",
            "Epoch 00017: saving model to model_init_2021-11-1811_52_10.520291/model-00017-0.05037-0.98683-0.77738-0.79000.h5\n",
            "\n",
            "Epoch 00017: ReduceLROnPlateau reducing learning rate to 3.125000148429535e-05.\n",
            "67/67 [==============================] - 468s 7s/step - loss: 0.0504 - categorical_accuracy: 0.9868 - val_loss: 0.7774 - val_categorical_accuracy: 0.7900 - lr: 6.2500e-05\n",
            "Epoch 18/20\n",
            "67/67 [==============================] - ETA: 0s - loss: 0.0510 - categorical_accuracy: 0.9833\n",
            "Epoch 00018: saving model to model_init_2021-11-1811_52_10.520291/model-00018-0.05104-0.98332-0.78826-0.78000.h5\n",
            "67/67 [==============================] - 466s 7s/step - loss: 0.0510 - categorical_accuracy: 0.9833 - val_loss: 0.7883 - val_categorical_accuracy: 0.7800 - lr: 3.1250e-05\n",
            "Epoch 19/20\n",
            "67/67 [==============================] - ETA: 0s - loss: 0.0603 - categorical_accuracy: 0.9816\n",
            "Epoch 00019: saving model to model_init_2021-11-1811_52_10.520291/model-00019-0.06028-0.98156-0.78430-0.80000.h5\n",
            "\n",
            "Epoch 00019: ReduceLROnPlateau reducing learning rate to 1.5625000742147677e-05.\n",
            "67/67 [==============================] - 461s 7s/step - loss: 0.0603 - categorical_accuracy: 0.9816 - val_loss: 0.7843 - val_categorical_accuracy: 0.8000 - lr: 3.1250e-05\n",
            "Epoch 20/20\n",
            "67/67 [==============================] - ETA: 0s - loss: 0.0753 - categorical_accuracy: 0.9789\n",
            "Epoch 00020: saving model to model_init_2021-11-1811_52_10.520291/model-00020-0.07526-0.97893-0.78052-0.77500.h5\n",
            "67/67 [==============================] - 464s 7s/step - loss: 0.0753 - categorical_accuracy: 0.9789 - val_loss: 0.7805 - val_categorical_accuracy: 0.7750 - lr: 1.5625e-05\n"
          ]
        },
        {
          "output_type": "execute_result",
          "data": {
            "text/plain": [
              "<keras.callbacks.History at 0x7f4e64e73890>"
            ]
          },
          "metadata": {},
          "execution_count": 21
        }
      ]
    },
    {
      "cell_type": "code",
      "metadata": {
        "id": "Iuxu257P7dOk"
      },
      "source": [
        ""
      ],
      "execution_count": null,
      "outputs": []
    },
    {
      "cell_type": "code",
      "metadata": {
        "id": "TiuPxuQy7dOm"
      },
      "source": [
        ""
      ],
      "execution_count": null,
      "outputs": []
    }
  ]
}